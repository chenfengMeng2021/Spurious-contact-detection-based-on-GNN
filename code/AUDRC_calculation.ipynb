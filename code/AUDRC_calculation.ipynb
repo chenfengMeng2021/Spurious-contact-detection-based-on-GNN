{
 "cells": [
  {
   "cell_type": "code",
   "execution_count": 1,
   "id": "f4cda48e",
   "metadata": {},
   "outputs": [],
   "source": [
    "import numpy as np\n",
    "import pandas as pd\n",
    "import statsmodels.api as sm\n",
    "from scipy.sparse import csr_matrix,load_npz, coo_matrix\n",
    "from tqdm import tqdm\n",
    "from math import log,exp,sqrt\n",
    "import logging\n",
    "import copy\n",
    "from sklearn.metrics import roc_curve, auc\n",
    "from sklearn.metrics.pairwise import cosine_similarity\n",
    "\n",
    "\n",
    "contig_file = \"../data/corrected_contig_info_combine.csv\"\n",
    "raw_contact_file = \"../data/raw_contact_matrix.npz\"\n",
    "path = \"../data\""
   ]
  },
  {
   "cell_type": "markdown",
   "id": "18baf9c5",
   "metadata": {},
   "source": [
    "## Auxiliary function"
   ]
  },
  {
   "cell_type": "code",
   "execution_count": 2,
   "id": "c45e445f",
   "metadata": {},
   "outputs": [],
   "source": [
    "def sum_rows_excluding_diagonal(sparse_mat):\n",
    "    sparse_mat = csr_matrix(sparse_mat)\n",
    "    # Get the shape of the matrix\n",
    "    n_rows, n_cols = sparse_mat.shape\n",
    "\n",
    "    # Initialize an array to store the row sums\n",
    "    row_sums_excluding_diagonal = np.zeros(n_rows)\n",
    "\n",
    "    # Iterate over each row\n",
    "    for i in range(n_rows):\n",
    "        # Get the start and end indices of the data in the current row\n",
    "        start_index = sparse_mat.indptr[i]\n",
    "        end_index = sparse_mat.indptr[i + 1]\n",
    "\n",
    "        # Get the column indices and data for the current row\n",
    "        row_indices = sparse_mat.indices[start_index:end_index]\n",
    "        row_data = sparse_mat.data[start_index:end_index]\n",
    "\n",
    "        # Sum the elements excluding the diagonal element\n",
    "        row_sum = sum(row_data[j] for j in range(len(row_data)) if row_indices[j] != i)\n",
    "\n",
    "        # Store the sum in the result array\n",
    "        row_sums_excluding_diagonal[i] = row_sum\n",
    "\n",
    "    return row_sums_excluding_diagonal\n",
    "\n"
   ]
  },
  {
   "cell_type": "code",
   "execution_count": 3,
   "id": "f8e66fad",
   "metadata": {},
   "outputs": [],
   "source": [
    "def normcc(df):\n",
    "\n",
    "    df['log_site'] = np.log(df['site'])\n",
    "    df['log_length'] = np.log(df['length'])\n",
    "    df['log_covcc'] = np.log(df['covcc'])\n",
    "    \n",
    "    exog = df[['log_site', 'log_length', 'log_covcc']]\n",
    "    endog = df[\"signal\"]\n",
    "    exog = sm.add_constant(exog)\n",
    "    glm_nb = sm.GLM(endog, exog, family=sm.families.NegativeBinomial(alpha=1))\n",
    "    res = glm_nb.fit(method=\"lbfgs\")\n",
    "\n",
    "    return res.params\n",
    "\n"
   ]
  },
  {
   "cell_type": "code",
   "execution_count": null,
   "id": "0a246fa0",
   "metadata": {},
   "outputs": [],
   "source": []
  },
  {
   "cell_type": "code",
   "execution_count": 4,
   "id": "edd89c7a",
   "metadata": {},
   "outputs": [],
   "source": [
    "def normalizemap(norm_params, metadata, contact_matrix):\n",
    "    contact_matrix = contact_matrix.tocoo()\n",
    "    norm_data = []\n",
    "    mu_vector = []\n",
    "    for site, length, covcc in zip(metadata[\"site\"], metadata['length'], metadata['covcc']):\n",
    "        mu_vector.append(np.exp(log(site) * norm_params['log_site'] +\n",
    "                    log(length) * norm_params['log_length'] +\n",
    "                    log(covcc) * norm_params['log_covcc'] +\n",
    "                    norm_params['const']))\n",
    "        \n",
    "    scale = np.max(mu_vector)\n",
    "    for idx, value in enumerate(contact_matrix.data):\n",
    "        i, j = contact_matrix.row[idx], contact_matrix.col[idx]\n",
    "        norm_value = scale * value / np.sqrt(mu_vector[i] * mu_vector[j])\n",
    "        norm_data.append(norm_value)\n",
    "    \n",
    "    return coo_matrix((norm_data, (contact_matrix.row, contact_matrix.col)), shape=contact_matrix.shape)\n"
   ]
  },
  {
   "cell_type": "code",
   "execution_count": 5,
   "id": "34c64640",
   "metadata": {},
   "outputs": [],
   "source": [
    "def calculate_true_contact(matrix, metadata, self_loop):\n",
    "    # calculate the true connection for local similarity\n",
    "    matrix = coo_matrix(matrix)\n",
    "    rows = matrix.row\n",
    "    cols = matrix.col\n",
    "    \n",
    "    index = (rows <= cols)\n",
    "    rows = rows[index]\n",
    "    cols = cols[index]\n",
    "    \n",
    "    true_positive = set()\n",
    "    for i in tqdm(range(len(rows))):\n",
    "        row = rows[i]\n",
    "        col = cols[i]\n",
    "        if row == col and not self_loop: # if self-loop is False and row = col, then jump over rest code in the cycle, which means row = col point won't be added into the True positive, thus, self-loop is not included. and self-loop false relised.  \n",
    "            continue\n",
    "        if metadata[\"True_identity\"][row] != metadata[\"True_identity\"][col]:\n",
    "            true_positive.add((row,col))\n",
    "    return true_positive\n",
    "\n"
   ]
  },
  {
   "cell_type": "code",
   "execution_count": 7,
   "id": "8a0d8bab",
   "metadata": {},
   "outputs": [],
   "source": [
    "def drop_lowest(matrix, thres):\n",
    "    matrix = coo_matrix(matrix)\n",
    "    row = matrix.row\n",
    "    col = matrix.col\n",
    "    seq = matrix.data\n",
    "    \n",
    "    index = (row <= col)\n",
    "    row = row[index]\n",
    "    col = col[index]\n",
    "    seq = seq[index]\n",
    "    \n",
    "    cutoffs = np.percentile(seq, thres*100)\n",
    "    \n",
    "    for j in range(len(seq)):\n",
    "        x = row[j]\n",
    "        y = col[j]\n",
    "        if seq[j] < cutoffs:\n",
    "            seq[j] = 0\n",
    "\n",
    "            \n",
    "    indices = np.where(seq> 0)[0]\n",
    "    new_seq = [seq[i] for i in indices]\n",
    "    new_row = [row[i] for i in indices]\n",
    "    new_col = [col[i] for i in indices]\n",
    "    print(f\"the number of elements before dropped:{len(row)}; the number of element after droppend:{len(new_row)}\")\n",
    "    return new_seq, new_row, new_col\n",
    "\n"
   ]
  },
  {
   "cell_type": "code",
   "execution_count": 8,
   "id": "29e4e68b",
   "metadata": {},
   "outputs": [],
   "source": [
    "# Function to calculate AUDRC\n",
    "def calculate_audrc(scores):\n",
    "    scores.sort(key=lambda x: x[2], reverse=True)\n",
    "    true_positive_count = sum(1 for _, _, _, is_tp in scores if is_tp)\n",
    "    spurious_contact_count = len(scores) - true_positive_count\n",
    "    tpr = []\n",
    "    discard_proportion = []\n",
    "    thresholds = np.percentile([x[2] for x in scores], np.arange(0, 100, 5))\n",
    "    for threshold in tqdm(thresholds):\n",
    "        tp_cumsum = sum(1 for _, _, score, is_tp in scores if score >= threshold and is_tp)\n",
    "        spurious_cumsum = sum(1 for _, _, score, is_tp in scores if score < threshold and not is_tp)\n",
    "        tpr.append(tp_cumsum / true_positive_count)\n",
    "        discard_proportion.append(spurious_cumsum / spurious_contact_count)\n",
    "    audrc = auc(discard_proportion, tpr)\n",
    "    return audrc, tpr, discard_proportion"
   ]
  },
  {
   "cell_type": "code",
   "execution_count": 9,
   "id": "10c949ea",
   "metadata": {},
   "outputs": [],
   "source": [
    "# Function to extract neighbors and edge weights\n",
    "def extract_neighbors_and_weights(contact_matrix):\n",
    "    neighbors = {}\n",
    "    row, col, data = contact_matrix.row, contact_matrix.col, contact_matrix.data\n",
    "    for i, j, weight in zip(row, col, data):\n",
    "        if i == j:\n",
    "            continue  # Skip self-loops\n",
    "        if i not in neighbors:\n",
    "            neighbors[i] = {}\n",
    "        if j not in neighbors:\n",
    "            neighbors[j] = {}\n",
    "        neighbors[i][j] = float(weight)\n",
    "        neighbors[j][i] = float(weight)  \n",
    "    return neighbors\n",
    "\n",
    "# Function to calculate Salton Index\n",
    "def salton_index(contact_matrix):\n",
    "    neighbors = extract_neighbors_and_weights(contact_matrix)\n",
    "    salton_scores = []\n",
    "    for i in neighbors:\n",
    "        for j in neighbors[i]:\n",
    "            neighbors_i = set(neighbors[i].keys())\n",
    "            neighbors_j = set(neighbors[j].keys())\n",
    "            common_neighbors = neighbors_i & neighbors_j\n",
    "            numerator = sum(neighbors[i][k] * neighbors[j][k] for k in common_neighbors)\n",
    "            denominator = np.sqrt(sum(neighbors[i][k]**2 for k in neighbors_i) * sum(neighbors[j][k]**2 for k in neighbors_j))\n",
    "            salton_scores.append((i, j, numerator / denominator if denominator != 0 else 0))\n",
    "    return salton_scores\n"
   ]
  },
  {
   "cell_type": "code",
   "execution_count": 10,
   "id": "41ae2f79",
   "metadata": {},
   "outputs": [],
   "source": [
    "def salton(matrix, self_loop):\n",
    "    \"\"\"we use matrix multiplication to accelarate the process\"\"\"\n",
    "    dense_matrix = matrix.toarray()\n",
    "    n_rows = dense_matrix.shape[0]\n",
    "    #self loop included?\n",
    "    if self_loop == False:\n",
    "        for i in range(n_rows):\n",
    "            dense_matrix[i, i] = 0\n",
    "            \n",
    "    salton_matrix = cosine_similarity(dense_matrix)\n",
    "    return coo_matrix(salton_matrix)\n"
   ]
  },
  {
   "cell_type": "code",
   "execution_count": null,
   "id": "89fab47d",
   "metadata": {},
   "outputs": [],
   "source": []
  },
  {
   "cell_type": "code",
   "execution_count": null,
   "id": "8c97046a",
   "metadata": {},
   "outputs": [],
   "source": []
  },
  {
   "cell_type": "code",
   "execution_count": 11,
   "id": "be956679",
   "metadata": {},
   "outputs": [],
   "source": [
    "def sorenson(matrix, self_loop):\n",
    "    dense_matrix = matrix.toarray()\n",
    "    n_rows = dense_matrix.shape[0]\n",
    "    \n",
    "    #self loop included?\n",
    "    if self_loop == False:\n",
    "        for i in range(n_rows):\n",
    "            dense_matrix[i, i] = 0\n",
    "            \n",
    "    sorenson_matrix = np.zeros((n_rows,n_rows))\n",
    "    for i in tqdm(range(n_rows)):\n",
    "        for j in range(i):\n",
    "            calculation = 2* np.sum(np.minimum(dense_matrix[i], dense_matrix[j]))/(np.sum(dense_matrix[i]) + np.sum(dense_matrix[j]))\n",
    "\n",
    "            sorenson_matrix[i, j] = calculation\n",
    "            sorenson_matrix[j, i] = calculation\n",
    "    return coo_matrix(sorenson_matrix)\n"
   ]
  },
  {
   "cell_type": "code",
   "execution_count": 12,
   "id": "4422d04d",
   "metadata": {},
   "outputs": [],
   "source": [
    "def jacard(matrix, self_loop):\n",
    "    dense_matrix = matrix.toarray()\n",
    "    n_rows = dense_matrix.shape[0]\n",
    "    \n",
    "    #self loop included?\n",
    "    if self_loop == False:\n",
    "        for i in range(n_rows):\n",
    "            dense_matrix[i, i] = 0\n",
    "            \n",
    "    jacard_matrix = np.zeros((n_rows,n_rows))\n",
    "    for i in tqdm(range(n_rows)):\n",
    "        for j in range(i):\n",
    "            calculation = np.sum(np.minimum(dense_matrix[i], dense_matrix[j]))/np.sum(np.maximum(dense_matrix[i], dense_matrix[j]))\n",
    "            jacard_matrix[i, j] = calculation\n",
    "            jacard_matrix[j, i] = calculation\n",
    "    return coo_matrix(jacard_matrix)"
   ]
  },
  {
   "cell_type": "code",
   "execution_count": 13,
   "id": "a66277a5",
   "metadata": {},
   "outputs": [],
   "source": [
    "def lhn(matrix, self_loop):\n",
    "    dense_matrix = matrix.toarray()\n",
    "    n_rows = dense_matrix.shape[0]\n",
    "    \n",
    "    #self loop included?\n",
    "    if self_loop == False:\n",
    "        for i in range(n_rows):\n",
    "            dense_matrix[i, i] = 0\n",
    "            \n",
    "    lhn_matrix = np.zeros((n_rows,n_rows))\n",
    "    for i in tqdm(range(n_rows)):\n",
    "        for j in range(i):\n",
    "            k_u = np.sum(dense_matrix[i])\n",
    "            k_v = np.sum(dense_matrix[j])\n",
    "            calculation = np.sum(dense_matrix[i]*dense_matrix[j])\n",
    "            lhn_matrix[i, j] = calculation\n",
    "            lhn_matrix[j, i] = calculation\n",
    "    return coo_matrix(lhn_matrix)"
   ]
  },
  {
   "cell_type": "markdown",
   "id": "46e603f7",
   "metadata": {},
   "source": [
    "## Data Loading and Preparation"
   ]
  },
  {
   "cell_type": "code",
   "execution_count": 14,
   "id": "e5407886",
   "metadata": {},
   "outputs": [],
   "source": [
    "contact_matrix = load_npz(raw_contact_file).tocsr()\n",
    "meta_data = pd.read_csv(contig_file)\n"
   ]
  },
  {
   "cell_type": "code",
   "execution_count": 15,
   "id": "c98cc42e",
   "metadata": {},
   "outputs": [],
   "source": [
    "names = ['name', 'site', 'length', 'coverage', 'covcc', \"True_identity\"]\n",
    "meta_data.columns = names"
   ]
  },
  {
   "cell_type": "code",
   "execution_count": 16,
   "id": "3980de97",
   "metadata": {},
   "outputs": [],
   "source": [
    "# Calculate the row sums excluding the diagonal\n",
    "signal = sum_rows_excluding_diagonal(contact_matrix)\n",
    "meta_data[\"signal\"] = signal"
   ]
  },
  {
   "cell_type": "code",
   "execution_count": null,
   "id": "e89ae673",
   "metadata": {},
   "outputs": [],
   "source": []
  },
  {
   "cell_type": "code",
   "execution_count": 17,
   "id": "90845cad",
   "metadata": {},
   "outputs": [],
   "source": [
    "# calculate the coffecient\n",
    "coffecient = normcc(meta_data)"
   ]
  },
  {
   "cell_type": "code",
   "execution_count": null,
   "id": "966760a1",
   "metadata": {},
   "outputs": [],
   "source": []
  },
  {
   "cell_type": "code",
   "execution_count": 18,
   "id": "79aec61d",
   "metadata": {},
   "outputs": [],
   "source": [
    "contact_matrix = contact_matrix.tocoo()"
   ]
  },
  {
   "cell_type": "markdown",
   "id": "4b576625",
   "metadata": {},
   "source": [
    "## Perform NormCC in the contact_matrix"
   ]
  },
  {
   "cell_type": "code",
   "execution_count": 19,
   "id": "28fd3e2e",
   "metadata": {},
   "outputs": [],
   "source": [
    "norm_contact_matrix = normalizemap(coffecient, meta_data, contact_matrix)"
   ]
  },
  {
   "cell_type": "code",
   "execution_count": 20,
   "id": "54f0995e",
   "metadata": {},
   "outputs": [
    {
     "name": "stdout",
     "output_type": "stream",
     "text": [
      "  (0, 0)\t871047.8149862476\n",
      "  (0, 185)\t25223.74260893343\n",
      "  (0, 1430)\t19908.193328339174\n",
      "  (0, 1691)\t22223.50955512559\n",
      "  (0, 2251)\t9459.678381011197\n",
      "  (0, 2638)\t2580.973421981295\n",
      "  (0, 3346)\t2206.5943894618167\n",
      "  (0, 4732)\t49581.18391135937\n",
      "  (1, 1)\t769095.3478915871\n",
      "  (1, 546)\t86856.44370238144\n",
      "  (1, 3689)\t10026.792784459714\n",
      "  (1, 5242)\t3069.209125333681\n",
      "  (2, 2)\t735997.8680959569\n",
      "  (2, 147)\t4661.208543857523\n",
      "  (2, 466)\t301.3340560661546\n",
      "  (2, 508)\t3040.617557024541\n",
      "  (2, 573)\t3299.8681705577646\n",
      "  (2, 701)\t318.2078576233044\n",
      "  (2, 725)\t888.2958727568667\n",
      "  (2, 942)\t482.72298967255637\n",
      "  (2, 958)\t372.0449268280038\n",
      "  (2, 1044)\t402.6997121971472\n",
      "  (2, 1057)\t1717.5436588950665\n",
      "  (2, 1353)\t27051.20515295446\n",
      "  (2, 1494)\t16629.352496971318\n",
      "  :\t:\n",
      "  (5282, 4210)\t249.10673638428233\n",
      "  (5282, 4255)\t1834.2582920471561\n",
      "  (5282, 4280)\t522.556921127156\n",
      "  (5282, 4319)\t540.8686327985389\n",
      "  (5282, 4321)\t170.93330060201683\n",
      "  (5282, 4323)\t515.1174566877427\n",
      "  (5282, 4330)\t408.74928201721576\n",
      "  (5282, 4425)\t378.06598288863415\n",
      "  (5282, 4527)\t433.0434563022516\n",
      "  (5282, 4531)\t224.10966294223408\n",
      "  (5282, 4548)\t232.23219401164474\n",
      "  (5282, 4681)\t5017.867280305656\n",
      "  (5282, 4746)\t1410.3858738436293\n",
      "  (5282, 4792)\t1838.2254679426298\n",
      "  (5282, 4850)\t981.2327615450712\n",
      "  (5282, 4883)\t1616.6752257588037\n",
      "  (5282, 4981)\t534.2647826816683\n",
      "  (5282, 5064)\t826.3909216568563\n",
      "  (5282, 5082)\t871.6122409038068\n",
      "  (5282, 5133)\t624.7652462365978\n",
      "  (5282, 5142)\t108.33731189134885\n",
      "  (5282, 5179)\t792.4465195826583\n",
      "  (5282, 5215)\t147.19947960898864\n",
      "  (5282, 5256)\t99.11826197122903\n",
      "  (5282, 5282)\t1051898.898016744\n"
     ]
    }
   ],
   "source": [
    "print(norm_contact_matrix)"
   ]
  },
  {
   "cell_type": "markdown",
   "id": "6180481b",
   "metadata": {},
   "source": [
    "## Calculate the local similarity index"
   ]
  },
  {
   "cell_type": "code",
   "execution_count": 46,
   "id": "5d158df5",
   "metadata": {},
   "outputs": [],
   "source": [
    "self_loop = True"
   ]
  },
  {
   "cell_type": "code",
   "execution_count": 47,
   "id": "401abcba",
   "metadata": {},
   "outputs": [],
   "source": [
    "## for salton local index\n",
    "salton_matrix_raw = salton(contact_matrix, self_loop)\n",
    "salton_matrix_norm = salton(norm_contact_matrix, self_loop)"
   ]
  },
  {
   "cell_type": "code",
   "execution_count": 48,
   "id": "4133f6a0",
   "metadata": {},
   "outputs": [
    {
     "name": "stderr",
     "output_type": "stream",
     "text": [
      "100%|██████████| 5283/5283 [05:05<00:00, 17.29it/s]\n",
      "100%|██████████| 5283/5283 [03:56<00:00, 22.38it/s] \n"
     ]
    }
   ],
   "source": [
    "## for sorenson local index\n",
    "sorenson_matrix_raw = sorenson(contact_matrix, self_loop)\n",
    "sorenson_matrix_norm = sorenson(norm_contact_matrix, self_loop)\n"
   ]
  },
  {
   "cell_type": "code",
   "execution_count": 49,
   "id": "8e2e1433",
   "metadata": {},
   "outputs": [
    {
     "name": "stderr",
     "output_type": "stream",
     "text": [
      "100%|██████████| 5283/5283 [03:44<00:00, 23.57it/s] \n",
      "100%|██████████| 5283/5283 [03:41<00:00, 23.83it/s] \n"
     ]
    }
   ],
   "source": [
    "## for jacard local index\n",
    "jacard_matrix_raw = jacard(contact_matrix, self_loop)\n",
    "jacard_matrix_norm = jacard(norm_contact_matrix, self_loop)"
   ]
  },
  {
   "cell_type": "code",
   "execution_count": 50,
   "id": "06441ee3",
   "metadata": {},
   "outputs": [
    {
     "name": "stderr",
     "output_type": "stream",
     "text": [
      "100%|██████████| 5283/5283 [04:40<00:00, 18.84it/s] \n",
      "100%|██████████| 5283/5283 [03:46<00:00, 23.37it/s] \n"
     ]
    }
   ],
   "source": [
    "## for lhn local index\n",
    "lhn_matrix_raw = lhn(contact_matrix, self_loop)\n",
    "\n",
    "lhn_matrix_norm = lhn(norm_contact_matrix, self_loop)"
   ]
  },
  {
   "cell_type": "markdown",
   "id": "c0ce6bef",
   "metadata": {},
   "source": [
    "## Drop the lowest n%"
   ]
  },
  {
   "cell_type": "code",
   "execution_count": 51,
   "id": "43f10a82",
   "metadata": {},
   "outputs": [
    {
     "name": "stdout",
     "output_type": "stream",
     "text": [
      "the number of elements before dropped:9020422; the number of element after droppend:8118379\n",
      "the number of elements before dropped:9020422; the number of element after droppend:8118379\n"
     ]
    }
   ],
   "source": [
    "##drop out the lowest 10 percent\n",
    "salton_seq_raw, salton_row_raw, salton_col_raw = drop_lowest(salton_matrix_raw, 0.1)\n",
    "salton_seq_norm, salton_row_norm, salton_col_norm = drop_lowest(salton_matrix_norm, 0.1)\n"
   ]
  },
  {
   "cell_type": "code",
   "execution_count": 52,
   "id": "723c566f",
   "metadata": {},
   "outputs": [
    {
     "name": "stdout",
     "output_type": "stream",
     "text": [
      "the number of elements before dropped:9020422; the number of element after droppend:8118379\n",
      "the number of elements before dropped:9020422; the number of element after droppend:8118379\n"
     ]
    }
   ],
   "source": [
    "##drop out the lowest 10 percent\n",
    "salton_seq_raw, salton_row_raw, salton_col_raw = drop_lowest(salton_matrix_raw, 0.1)\n",
    "salton_seq_norm, salton_row_norm, salton_col_norm = drop_lowest(salton_matrix_norm, 0.1)"
   ]
  },
  {
   "cell_type": "code",
   "execution_count": 53,
   "id": "7cf6ee50",
   "metadata": {},
   "outputs": [
    {
     "name": "stdout",
     "output_type": "stream",
     "text": [
      "the number of elements before dropped:9015139; the number of element after droppend:8113680\n",
      "the number of elements before dropped:9015139; the number of element after droppend:8113625\n"
     ]
    }
   ],
   "source": [
    "sorenson_seq_raw, sorenson_row_raw, sorenson_col_raw = drop_lowest(sorenson_matrix_raw, 0.1)\n",
    "sorenson_seq_norm, sorenson_row_norm, sorenson_col_norm = drop_lowest(sorenson_matrix_norm, 0.1)"
   ]
  },
  {
   "cell_type": "code",
   "execution_count": 54,
   "id": "ecae5515",
   "metadata": {},
   "outputs": [
    {
     "name": "stdout",
     "output_type": "stream",
     "text": [
      "the number of elements before dropped:9015139; the number of element after droppend:8113680\n",
      "the number of elements before dropped:9015139; the number of element after droppend:8113625\n"
     ]
    }
   ],
   "source": [
    "jacard_seq_raw, jacard_row_raw, jacard_col_raw = drop_lowest(jacard_matrix_raw, 0.1)\n",
    "jacard_seq_norm, jacard_row_norm, jacard_col_norm = drop_lowest(jacard_matrix_norm, 0.1)\n"
   ]
  },
  {
   "cell_type": "code",
   "execution_count": 55,
   "id": "faed085e",
   "metadata": {},
   "outputs": [
    {
     "name": "stdout",
     "output_type": "stream",
     "text": [
      "the number of elements before dropped:9015139; the number of element after droppend:8281348\n",
      "the number of elements before dropped:9015139; the number of element after droppend:8113625\n"
     ]
    }
   ],
   "source": [
    "lhn_seq_raw, lhn_row_raw, lhn_col_raw = drop_lowest(lhn_matrix_raw, 0.1)\n",
    "lhn_seq_norm, lhn_row_norm, lhn_col_norm = drop_lowest(lhn_matrix_norm, 0.1)\n"
   ]
  },
  {
   "cell_type": "markdown",
   "id": "7b6c0fc8",
   "metadata": {},
   "source": [
    "## Find out the true positive contacts"
   ]
  },
  {
   "cell_type": "code",
   "execution_count": 56,
   "id": "d77b8faa",
   "metadata": {},
   "outputs": [
    {
     "name": "stderr",
     "output_type": "stream",
     "text": [
      "100%|██████████| 562066/562066 [00:31<00:00, 17731.44it/s] \n"
     ]
    }
   ],
   "source": [
    "## calculate the valid contacts in the map\n",
    "true_contact = calculate_true_contact(contact_matrix, meta_data, False)"
   ]
  },
  {
   "cell_type": "code",
   "execution_count": null,
   "id": "a8708846",
   "metadata": {},
   "outputs": [],
   "source": []
  },
  {
   "cell_type": "markdown",
   "id": "d7cf6b72",
   "metadata": {},
   "source": [
    "## Draw the local ROC"
   ]
  },
  {
   "cell_type": "code",
   "execution_count": 57,
   "id": "68312768",
   "metadata": {},
   "outputs": [],
   "source": [
    "salton_score_raw = [(i, j, score, (i, j) in true_contact) for (score, i, j) in zip(salton_seq_raw, salton_row_raw, salton_col_raw)]\n",
    "salton_score_norm = [(i, j, score, (i, j) in true_contact) for (score, i, j) in zip(salton_seq_norm, salton_row_norm, salton_col_norm)]"
   ]
  },
  {
   "cell_type": "code",
   "execution_count": 58,
   "id": "17c3d1b9",
   "metadata": {},
   "outputs": [],
   "source": [
    "sorenson_score_raw = [(i, j, score, (i, j) in true_contact) for (score, i, j) in zip(sorenson_seq_raw, sorenson_row_raw, sorenson_col_raw)]\n",
    "sorenson_score_norm = [(i, j, score, (i, j) in true_contact) for (score, i, j) in zip(sorenson_seq_norm, sorenson_row_norm, sorenson_col_norm )]"
   ]
  },
  {
   "cell_type": "code",
   "execution_count": 59,
   "id": "16a1357b",
   "metadata": {},
   "outputs": [],
   "source": [
    "jacard_score_raw = [(i, j, score, (i, j) in true_contact) for (score, i, j) in zip(jacard_seq_raw, jacard_row_raw, jacard_col_raw)]\n",
    "jacard_score_norm = [(i, j, score, (i, j) in true_contact) for (score, i, j) in zip(jacard_seq_norm, jacard_row_norm, jacard_col_norm)]"
   ]
  },
  {
   "cell_type": "code",
   "execution_count": 60,
   "id": "c5ba5da5",
   "metadata": {},
   "outputs": [],
   "source": [
    "lhn_score_raw = [(i, j, score, (i, j) in true_contact) for (score, i, j) in zip(lhn_seq_raw, lhn_row_raw, lhn_col_raw)]\n",
    "lhn_score_norm = [(i, j, score, (i, j) in true_contact) for (score, i, j) in zip(lhn_seq_norm, lhn_row_norm, lhn_col_norm)]"
   ]
  },
  {
   "cell_type": "code",
   "execution_count": null,
   "id": "0b73bec4",
   "metadata": {},
   "outputs": [],
   "source": []
  },
  {
   "cell_type": "code",
   "execution_count": 61,
   "id": "dab6afb1",
   "metadata": {},
   "outputs": [
    {
     "name": "stderr",
     "output_type": "stream",
     "text": [
      "100%|██████████| 20/20 [01:42<00:00,  5.14s/it]\n",
      "100%|██████████| 20/20 [01:56<00:00,  5.84s/it]\n"
     ]
    }
   ],
   "source": [
    "auc_salton_raw, tpr_salton_raw, fpr_salton_raw = calculate_audrc(salton_score_raw)\n",
    "auc_salton_norm, tpr_salton_norm, fpr_salton_norm = calculate_audrc(salton_score_norm)\n"
   ]
  },
  {
   "cell_type": "code",
   "execution_count": 62,
   "id": "ed1a6e91",
   "metadata": {},
   "outputs": [
    {
     "name": "stderr",
     "output_type": "stream",
     "text": [
      "100%|██████████| 20/20 [02:04<00:00,  6.23s/it]\n",
      "100%|██████████| 20/20 [01:29<00:00,  4.50s/it]\n"
     ]
    }
   ],
   "source": [
    "auc_sorenson_raw, tpr_sorenson_raw, fpr_sorenson_raw = calculate_audrc(sorenson_score_raw)\n",
    "auc_sorenson_norm, tpr_sorenson_norm, fpr_sorenson_norm = calculate_audrc(sorenson_score_norm)"
   ]
  },
  {
   "cell_type": "code",
   "execution_count": 63,
   "id": "03d9bbba",
   "metadata": {},
   "outputs": [
    {
     "name": "stderr",
     "output_type": "stream",
     "text": [
      "100%|██████████| 20/20 [01:32<00:00,  4.62s/it]\n",
      "100%|██████████| 20/20 [01:21<00:00,  4.07s/it]\n"
     ]
    }
   ],
   "source": [
    "auc_jacard_raw, tpr_jacard_raw, fpr_jacard_raw = calculate_audrc(jacard_score_raw)\n",
    "auc_jacard_norm, tpr_jacard_norm, fpr_jacard_norm = calculate_audrc(jacard_score_norm)"
   ]
  },
  {
   "cell_type": "code",
   "execution_count": 64,
   "id": "82376a80",
   "metadata": {},
   "outputs": [
    {
     "name": "stderr",
     "output_type": "stream",
     "text": [
      "100%|██████████| 20/20 [01:36<00:00,  4.82s/it]\n",
      "100%|██████████| 20/20 [01:58<00:00,  5.93s/it]\n"
     ]
    }
   ],
   "source": [
    "auc_lhn_raw, tpr_lhn_raw, fpr_lhn_raw = calculate_audrc(lhn_score_raw)\n",
    "auc_lhn_norm, tpr_lhn_norm, fpr_lhn_norm = calculate_audrc(lhn_score_norm)"
   ]
  },
  {
   "cell_type": "code",
   "execution_count": null,
   "id": "6cfbca43",
   "metadata": {},
   "outputs": [],
   "source": []
  },
  {
   "cell_type": "code",
   "execution_count": null,
   "id": "be5cb72f",
   "metadata": {},
   "outputs": [],
   "source": []
  },
  {
   "cell_type": "code",
   "execution_count": 65,
   "id": "58adf0f4",
   "metadata": {},
   "outputs": [
    {
     "data": {
      "image/png": "[encoded data removed]",
      "text/plain": [
       "<Figure size 432x288 with 1 Axes>"
      ]
     },
     "metadata": {
      "needs_background": "light"
     },
     "output_type": "display_data"
    }
   ],
   "source": [
    "import matplotlib.pyplot as plt\n",
    "\n",
    "plt.figure()\n",
    "lw = 2  # line width\n",
    "\n",
    "\n",
    "plot_discard_retain_curve(fpr_salton_raw, tpr_salton_raw, auc_salton_raw, 'Salton Index Raw', 'orange')\n",
    "plot_discard_retain_curve(fpr_salton_norm, tpr_salton_norm, auc_salton_norm, 'Salton Index Norm', 'blue')\n",
    "plot_discard_retain_curve(fpr_sorenson_raw, tpr_sorenson_raw, auc_sorenson_raw, 'Sørensen Index Raw', 'green')\n",
    "plot_discard_retain_curve(fpr_sorenson_norm, tpr_sorenson_norm, auc_sorenson_norm, 'Sørensen Index Norm', 'red')\n",
    "\n",
    "\n",
    "plt.plot([0, 1], [0, 1], color='navy', lw=2, linestyle='--')\n",
    "plt.xlim([0.0, 1.0])\n",
    "plt.ylim([0.0, 1.05])\n",
    "plt.xlabel('Proportation of retained intra-species contacts')\n",
    "plt.ylabel('Proportation of discard spurious contacts')\n",
    "plt.title('Discard retained curve')\n",
    "plt.legend(loc=\"lower right\")\n",
    "plt.grid(True)\n",
    "plt.show()"
   ]
  },
  {
   "cell_type": "code",
   "execution_count": 66,
   "id": "947c14e2",
   "metadata": {},
   "outputs": [
    {
     "data": {
      "image/png": "[encoded data removed]",
      "text/plain": [
       "<Figure size 432x288 with 1 Axes>"
      ]
     },
     "metadata": {
      "needs_background": "light"
     },
     "output_type": "display_data"
    }
   ],
   "source": [
    "plt.figure()\n",
    "lw = 2  # line width\n",
    "plt.plot(fpr_jacard_raw, tpr_jacard_raw, color='blue', lw=lw, label=f'jacard raw (AUC = {auc_jacard_raw:.2f})')\n",
    "plt.plot(fpr_jacard_norm, tpr_jacard_norm, color=\"red\", lw=lw, label=f' jacard norm (AUC = {auc_jacard_norm:.2f})')\n",
    "plt.plot(fpr_lhn_raw, tpr_lhn_raw, color='black', lw=lw, label=f'lhn raw(AUC = {auc_lhn_raw:.2f})')\n",
    "plt.plot(fpr_lhn_norm, tpr_lhn_norm, color=\"green\",lw=lw, label=f'lhn norm (AUC = {auc_lhn_norm:.2f})')\n",
    "\n",
    "plt.plot([0, 1], [0, 1], color='navy', lw=2, linestyle='--')\n",
    "plt.xlim([0.0, 1.0])\n",
    "plt.ylim([0.0, 1.05])\n",
    "plt.xlabel('Proportation of retained intra-species contacts')\n",
    "plt.ylabel('Proportation of discard spurious contacts')\n",
    "plt.title('Discard retained curve')\n",
    "plt.legend(loc=\"lower right\")\n",
    "plt.grid(True)\n",
    "plt.show()"
   ]
  },
  {
   "cell_type": "code",
   "execution_count": null,
   "id": "7616dec1",
   "metadata": {},
   "outputs": [],
   "source": []
  },
  {
   "cell_type": "code",
   "execution_count": null,
   "id": "c62ee117",
   "metadata": {},
   "outputs": [],
   "source": []
  },
  {
   "cell_type": "code",
   "execution_count": 43,
   "id": "915b0a85",
   "metadata": {},
   "outputs": [],
   "source": [
    "# Function to plot the discard-retain curve\n",
    "def plot_discard_retain_curve(discard_proportion, tpr, audrc, method_label, color):\n",
    "    plt.plot(discard_proportion, tpr, label=f'{method_label}: {audrc:.3f}', color=color)"
   ]
  },
  {
   "cell_type": "code",
   "execution_count": 44,
   "id": "5bb109bb",
   "metadata": {},
   "outputs": [
    {
     "data": {
      "image/png": "[encoded data removed]",
      "text/plain": [
       "<Figure size 432x288 with 1 Axes>"
      ]
     },
     "metadata": {
      "needs_background": "light"
     },
     "output_type": "display_data"
    }
   ],
   "source": [
    "import matplotlib.pyplot as plt\n",
    "\n",
    "plt.figure()\n",
    "lw = 2  # line width\n",
    "\n",
    "\n",
    "plot_discard_retain_curve(fpr_salton_raw, tpr_salton_raw, auc_salton_raw, 'Salton Index Raw', 'orange')\n",
    "plot_discard_retain_curve(fpr_salton_norm, tpr_salton_norm, auc_salton_norm, 'Salton Index Norm', 'blue')\n",
    "plot_discard_retain_curve(fpr_sorenson_raw, tpr_sorenson_raw, auc_sorenson_raw, 'Sørensen Index Raw', 'green')\n",
    "plot_discard_retain_curve(fpr_sorenson_norm, tpr_sorenson_norm, auc_sorenson_norm, 'Sørensen Index Norm', 'red')\n",
    "\n",
    "\n",
    "plt.plot([0, 1], [0, 1], color='navy', lw=2, linestyle='--')\n",
    "plt.xlim([0.0, 1.0])\n",
    "plt.ylim([0.0, 1.05])\n",
    "plt.xlabel('Proportation of retained intra-species contacts')\n",
    "plt.ylabel('Proportation of discard spurious contacts')\n",
    "plt.title('Discard retained curve')\n",
    "plt.legend(loc=\"lower right\")\n",
    "plt.grid(True)\n",
    "plt.show()"
   ]
  },
  {
   "cell_type": "markdown",
   "id": "b49ba38f",
   "metadata": {},
   "source": [
    "#### question: if there are multiple contacts for the same pairs of contigs, I should count it as 1 when calculate the multiple contacts or counted as the number as it is?\n"
   ]
  },
  {
   "cell_type": "code",
   "execution_count": 45,
   "id": "27836513",
   "metadata": {},
   "outputs": [
    {
     "data": {
      "image/png": "[encoded data removed]",
      "text/plain": [
       "<Figure size 432x288 with 1 Axes>"
      ]
     },
     "metadata": {
      "needs_background": "light"
     },
     "output_type": "display_data"
    }
   ],
   "source": [
    "plt.figure()\n",
    "lw = 2  # line width\n",
    "plt.plot(fpr_jacard_raw, tpr_jacard_raw, color='blue', lw=lw, label=f'jacard raw (AUC = {auc_jacard_raw:.2f})')\n",
    "plt.plot(fpr_jacard_norm, tpr_jacard_norm, color=\"red\", lw=lw, label=f' jacard norm (AUC = {auc_jacard_norm:.2f})')\n",
    "plt.plot(fpr_lhn_raw, tpr_lhn_raw, color='black', lw=lw, label=f'lhn raw(AUC = {auc_lhn_raw:.2f})')\n",
    "plt.plot(fpr_lhn_norm, tpr_lhn_norm, color=\"green\",lw=lw, label=f'lhn norm (AUC = {auc_lhn_norm:.2f})')\n",
    "\n",
    "plt.plot([0, 1], [0, 1], color='navy', lw=2, linestyle='--')\n",
    "plt.xlim([0.0, 1.0])\n",
    "plt.ylim([0.0, 1.05])\n",
    "plt.xlabel('Proportation of retained intra-species contacts')\n",
    "plt.ylabel('Proportation of discard spurious contacts')\n",
    "plt.title('Discard retained curve')\n",
    "plt.legend(loc=\"lower right\")\n",
    "plt.grid(True)\n",
    "plt.show()"
   ]
  },
  {
   "cell_type": "code",
   "execution_count": null,
   "id": "a3d909b0",
   "metadata": {},
   "outputs": [],
   "source": []
  }
 ],
 "metadata": {
  "kernelspec": {
   "display_name": "Python 3",
   "language": "python",
   "name": "python3"
  },
  "language_info": {
   "codemirror_mode": {
    "name": "ipython",
    "version": 3
   },
   "file_extension": ".py",
   "mimetype": "text/x-python",
   "name": "python",
   "nbconvert_exporter": "python",
   "pygments_lexer": "ipython3",
   "version": "3.8.5"
  }
 },
 "nbformat": 4,
 "nbformat_minor": 5
}
