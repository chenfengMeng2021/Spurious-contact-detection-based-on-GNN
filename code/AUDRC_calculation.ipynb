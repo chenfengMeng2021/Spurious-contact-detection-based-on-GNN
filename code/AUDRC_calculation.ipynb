{
 "cells": [
  {
   "cell_type": "code",
   "execution_count": 1,
   "id": "2049b9bd",
   "metadata": {},
   "outputs": [],
   "source": [
    "import numpy as np\n",
    "import pandas as pd\n",
    "import statsmodels.api as sm\n",
    "from scipy.sparse import csr_matrix\n",
    "from tqdm import tqdm\n",
    "from math import log,exp,sqrt\n",
    "import logging\n",
    "import copy\n",
    "from sklearn.metrics import roc_curve, auc\n",
    "from sklearn.metrics.pairwise import cosine_similarity\n",
    "from scipy.sparse import coo_matrix\n",
    "\n",
    "contig_file = \"./data/corrected_contig_info_combine.csv\"\n",
    "path = \"./data\""
   ]
  },
  {
   "cell_type": "markdown",
   "id": "da936754",
   "metadata": {},
   "source": [
    "## Auxiliary function"
   ]
  },
  {
   "cell_type": "code",
   "execution_count": 2,
   "id": "a2960c94",
   "metadata": {},
   "outputs": [],
   "source": [
    "def normcc(df):\n",
    "\n",
    "    df['sample_site'] = np.log(df['site'])\n",
    "    df['sample_len'] = np.log(df['length'])\n",
    "    df['sample_covcc'] = np.log(df['covcc'])\n",
    "    exog = df[['sample_site', 'sample_len', 'sample_covcc']]\n",
    "    endog = df[\"signal\"]\n",
    "    exog = sm.add_constant(exog)\n",
    "    glm_nb = sm.GLM(endog, exog, family=sm.families.NegativeBinomial(alpha=1))\n",
    "    res = glm_nb.fit(method=\"lbfgs\")\n",
    "    norm_result = res.params.to_list()\n",
    "    return norm_result\n",
    "\n"
   ]
  },
  {
   "cell_type": "code",
   "execution_count": 3,
   "id": "aa7c1266",
   "metadata": {},
   "outputs": [],
   "source": [
    "#!/usr/bin/env python\n",
    "# coding: utf-8\n",
    "\n",
    "\n",
    "# package logger\n",
    "logger = logging.getLogger(__name__)\n",
    "\n",
    "\n",
    "class NormCCMap:\n",
    "    def __init__(self, path , contig_info , seq_map , norm_result , thres):\n",
    "        '''\n",
    "        perc: threshold of spurious contacts\n",
    "        '''\n",
    "        self.path = path\n",
    "        self.seq_map_raw = copy.deepcopy(seq_map)\n",
    "        self.seq_map = seq_map\n",
    "        self.norm_result = norm_result\n",
    "        self.thres = thres\n",
    "        self.norm_seq = []\n",
    "        self.seq = []\n",
    "\n",
    "\n",
    "        self.name = contig_info[\"name\"]\n",
    "        self.site = contig_info[\"site\"]\n",
    "        self.len = contig_info[\"length\"]\n",
    "        self.covcc = contig_info[\"covcc\"]\n",
    "\n",
    "        del contig_info\n",
    "        \n",
    "        ####transfer the list to numpy array to do slicing#####\n",
    "        self.name = np.array(self.name)\n",
    "        self.site = np.array(self.site)\n",
    "        self.len = np.array(self.len)\n",
    "        self.covcc = np.array(self.covcc)\n",
    "        \n",
    "        #####Normalize raw contacts######\n",
    "        self.norm()\n",
    "\n",
    "        \n",
    "\n",
    "    def norm(self):\n",
    "        self.seq_map = self.seq_map.tocoo()\n",
    "        self.seq_map_raw = self.seq_map_raw.tocoo()\n",
    "        \n",
    "        _map_row = self.seq_map.row\n",
    "        _map_col = self.seq_map.col\n",
    "        self.seq = self.seq_map.data\n",
    "        \n",
    "        \n",
    "        _index = _map_row<_map_col\n",
    "        _map_row = _map_row[_index]\n",
    "        _map_col = _map_col[_index]\n",
    "        self.seq = self.seq[_index]\n",
    "        \n",
    "        _map_coor = list(zip(_map_row , _map_col , self.seq))\n",
    "        coeff = self.norm_result\n",
    "        \n",
    "        self.seq_map = self.seq_map.tolil()\n",
    "        self.seq_map = self.seq_map.astype(np.float64)\n",
    "\n",
    "        self.seq_map_raw = self.seq_map_raw.tolil()\n",
    "        self.seq_map_raw = self.seq_map_raw.astype(np.float64)\n",
    "        \n",
    "        mu_vector = []\n",
    "        for contig_feature in zip(self.site, self.len, self.covcc):\n",
    "            mu_vector.append(exp(coeff[0] + coeff[1]*log(contig_feature[0])+ coeff[2]*log(contig_feature[1])+ coeff[3]*log(contig_feature[2])))\n",
    "        scal = np.max(mu_vector)\n",
    "\n",
    "        \n",
    "        for i in _map_coor:\n",
    "            x = i[0]\n",
    "            y = i[1]\n",
    "            d = i[2]\n",
    "            \n",
    "            d_norm = scal*d/sqrt(mu_vector[x]*mu_vector[y])\n",
    "            self.norm_seq.append(d_norm)\n",
    "            \n",
    "            self.seq_map[x , y] = d_norm\n",
    "            self.seq_map[y , x] = d_norm\n",
    "            \n",
    "        logger.info('Eliminating systematic biases finished')\n",
    "\n",
    "        del _map_row, _map_col, _map_coor, count\n",
    "\n",
    "   "
   ]
  },
  {
   "cell_type": "code",
   "execution_count": 4,
   "id": "24790141",
   "metadata": {},
   "outputs": [],
   "source": [
    "def drop_lowest(matrix, thres):\n",
    "    matrix = coo_matrix(matrix)\n",
    "    row = matrix.row\n",
    "    col = matrix.col\n",
    "    seq = matrix.data\n",
    "    \n",
    "    index = row < col\n",
    "    \n",
    "    row = row[index]\n",
    "    col = col[index]\n",
    "    seq = seq[index]\n",
    "    \n",
    "    \n",
    "    cutoffs = np.percentile(seq, thres*100)\n",
    "    count = 0\n",
    "    for j in range(len(seq)):\n",
    "        x = row[j]\n",
    "        y = col[j]\n",
    "        if seq[j] < cutoffs:\n",
    "            seq[j] = 0\n",
    "            count += 1\n",
    "    return seq, row, col\n",
    "\n"
   ]
  },
  {
   "cell_type": "code",
   "execution_count": 5,
   "id": "920d7347",
   "metadata": {},
   "outputs": [],
   "source": [
    "def salton(matrix):\n",
    "    dense_matrix = matrix.toarray()\n",
    "    salton_matrix = cosine_similarity(dense_matrix)\n",
    "    return coo_matrix(salton_matrix)\n",
    "    "
   ]
  },
  {
   "cell_type": "code",
   "execution_count": 6,
   "id": "c49d4757",
   "metadata": {},
   "outputs": [],
   "source": [
    "def sorenson(matrix):\n",
    "    dense_matrix = matrix.toarray()\n",
    "    n_rows = dense_matrix.shape[0]\n",
    "    sorenson_matrix = np.zeros((n_rows,n_rows))\n",
    "    for i in tqdm(range(n_rows)):\n",
    "        for j in range(i):\n",
    "            calculation = 2* np.sum(np.minimum(dense_matrix[i], dense_matrix[j]))/(np.sum(dense_matrix[i]) + np.sum(dense_matrix[j]))\n",
    "\n",
    "            sorenson_matrix[i, j] = calculation\n",
    "            sorenson_matrix[j, i] = calculation\n",
    "    return coo_matrix(sorenson_matrix)\n"
   ]
  },
  {
   "cell_type": "code",
   "execution_count": null,
   "id": "c6f628e3",
   "metadata": {},
   "outputs": [],
   "source": []
  },
  {
   "cell_type": "markdown",
   "id": "93fc9047",
   "metadata": {},
   "source": [
    "## Data Loading and Preparation"
   ]
  },
  {
   "cell_type": "code",
   "execution_count": 7,
   "id": "3f58f262",
   "metadata": {},
   "outputs": [],
   "source": [
    "raw_contact_matrix = np.load(\"./data/raw_contact_matrix.npz\")\n",
    "contig_info_combine = pd.read_csv(contig_file)"
   ]
  },
  {
   "cell_type": "code",
   "execution_count": 8,
   "id": "84a4d498",
   "metadata": {},
   "outputs": [],
   "source": [
    "names = ['name', 'site', 'length', 'coverage', 'covcc', \"True_identity\"]\n",
    "contig_info_combine.columns = names"
   ]
  },
  {
   "cell_type": "code",
   "execution_count": 9,
   "id": "f6318ca2",
   "metadata": {},
   "outputs": [
    {
     "data": {
      "text/html": [
       "<div>\n",
       "<style scoped>\n",
       "    .dataframe tbody tr th:only-of-type {\n",
       "        vertical-align: middle;\n",
       "    }\n",
       "\n",
       "    .dataframe tbody tr th {\n",
       "        vertical-align: top;\n",
       "    }\n",
       "\n",
       "    .dataframe thead th {\n",
       "        text-align: right;\n",
       "    }\n",
       "</style>\n",
       "<table border=\"1\" class=\"dataframe\">\n",
       "  <thead>\n",
       "    <tr style=\"text-align: right;\">\n",
       "      <th></th>\n",
       "      <th>name</th>\n",
       "      <th>site</th>\n",
       "      <th>length</th>\n",
       "      <th>coverage</th>\n",
       "      <th>covcc</th>\n",
       "      <th>True_identity</th>\n",
       "    </tr>\n",
       "  </thead>\n",
       "  <tbody>\n",
       "    <tr>\n",
       "      <th>0</th>\n",
       "      <td>k141_13348</td>\n",
       "      <td>14</td>\n",
       "      <td>1445</td>\n",
       "      <td>11.5019</td>\n",
       "      <td>44</td>\n",
       "      <td>kudriavzevii</td>\n",
       "    </tr>\n",
       "    <tr>\n",
       "      <th>1</th>\n",
       "      <td>k141_1</td>\n",
       "      <td>6</td>\n",
       "      <td>1102</td>\n",
       "      <td>15.3950</td>\n",
       "      <td>9</td>\n",
       "      <td>kudriavzevii</td>\n",
       "    </tr>\n",
       "    <tr>\n",
       "      <th>2</th>\n",
       "      <td>k141_10680</td>\n",
       "      <td>9</td>\n",
       "      <td>1191</td>\n",
       "      <td>618.3390</td>\n",
       "      <td>194</td>\n",
       "      <td>cerevisiae</td>\n",
       "    </tr>\n",
       "    <tr>\n",
       "      <th>3</th>\n",
       "      <td>k141_9790</td>\n",
       "      <td>92</td>\n",
       "      <td>4211</td>\n",
       "      <td>500.7790</td>\n",
       "      <td>10020</td>\n",
       "      <td>uvarum</td>\n",
       "    </tr>\n",
       "    <tr>\n",
       "      <th>4</th>\n",
       "      <td>k141_2</td>\n",
       "      <td>15</td>\n",
       "      <td>2821</td>\n",
       "      <td>17.4684</td>\n",
       "      <td>173</td>\n",
       "      <td>kudriavzevii</td>\n",
       "    </tr>\n",
       "    <tr>\n",
       "      <th>...</th>\n",
       "      <td>...</td>\n",
       "      <td>...</td>\n",
       "      <td>...</td>\n",
       "      <td>...</td>\n",
       "      <td>...</td>\n",
       "      <td>...</td>\n",
       "    </tr>\n",
       "    <tr>\n",
       "      <th>5278</th>\n",
       "      <td>k141_13334</td>\n",
       "      <td>64</td>\n",
       "      <td>5930</td>\n",
       "      <td>57.2666</td>\n",
       "      <td>140</td>\n",
       "      <td>gossypii</td>\n",
       "    </tr>\n",
       "    <tr>\n",
       "      <th>5279</th>\n",
       "      <td>k141_13335</td>\n",
       "      <td>83</td>\n",
       "      <td>6085</td>\n",
       "      <td>103.4340</td>\n",
       "      <td>1458</td>\n",
       "      <td>castellii</td>\n",
       "    </tr>\n",
       "    <tr>\n",
       "      <th>5280</th>\n",
       "      <td>k141_13340</td>\n",
       "      <td>14</td>\n",
       "      <td>1165</td>\n",
       "      <td>15.9094</td>\n",
       "      <td>11</td>\n",
       "      <td>kudriavzevii</td>\n",
       "    </tr>\n",
       "    <tr>\n",
       "      <th>5281</th>\n",
       "      <td>k141_13342</td>\n",
       "      <td>204</td>\n",
       "      <td>15692</td>\n",
       "      <td>92.8114</td>\n",
       "      <td>3787</td>\n",
       "      <td>kluyveri</td>\n",
       "    </tr>\n",
       "    <tr>\n",
       "      <th>5282</th>\n",
       "      <td>k141_13343</td>\n",
       "      <td>129</td>\n",
       "      <td>9279</td>\n",
       "      <td>55.2093</td>\n",
       "      <td>1787</td>\n",
       "      <td>paradoxus</td>\n",
       "    </tr>\n",
       "  </tbody>\n",
       "</table>\n",
       "<p>5283 rows × 6 columns</p>\n",
       "</div>"
      ],
      "text/plain": [
       "            name  site  length  coverage  covcc True_identity\n",
       "0     k141_13348    14    1445   11.5019     44  kudriavzevii\n",
       "1         k141_1     6    1102   15.3950      9  kudriavzevii\n",
       "2     k141_10680     9    1191  618.3390    194    cerevisiae\n",
       "3      k141_9790    92    4211  500.7790  10020        uvarum\n",
       "4         k141_2    15    2821   17.4684    173  kudriavzevii\n",
       "...          ...   ...     ...       ...    ...           ...\n",
       "5278  k141_13334    64    5930   57.2666    140      gossypii\n",
       "5279  k141_13335    83    6085  103.4340   1458     castellii\n",
       "5280  k141_13340    14    1165   15.9094     11  kudriavzevii\n",
       "5281  k141_13342   204   15692   92.8114   3787      kluyveri\n",
       "5282  k141_13343   129    9279   55.2093   1787     paradoxus\n",
       "\n",
       "[5283 rows x 6 columns]"
      ]
     },
     "execution_count": 9,
     "metadata": {},
     "output_type": "execute_result"
    }
   ],
   "source": [
    "contig_info_combine"
   ]
  },
  {
   "cell_type": "code",
   "execution_count": 10,
   "id": "725c7638",
   "metadata": {},
   "outputs": [
    {
     "data": {
      "text/plain": [
       "(5283, 6)"
      ]
     },
     "execution_count": 10,
     "metadata": {},
     "output_type": "execute_result"
    }
   ],
   "source": [
    "contig_info_combine.shape"
   ]
  },
  {
   "cell_type": "code",
   "execution_count": 11,
   "id": "f754960a",
   "metadata": {},
   "outputs": [
    {
     "data": {
      "text/plain": [
       "['indices', 'indptr', 'format', 'shape', 'data']"
      ]
     },
     "execution_count": 11,
     "metadata": {},
     "output_type": "execute_result"
    }
   ],
   "source": [
    "raw_contact_matrix.files"
   ]
  },
  {
   "cell_type": "code",
   "execution_count": 12,
   "id": "ce822d93",
   "metadata": {},
   "outputs": [],
   "source": [
    "indices = raw_contact_matrix[\"indices\"]\n",
    "indptr = raw_contact_matrix[\"indptr\"]\n",
    "shape = raw_contact_matrix[\"shape\"]\n",
    "data = raw_contact_matrix[\"data\"]\n",
    "\n",
    "# Reconstruct the sparse matrix (assuming CSR format)\n",
    "contact_matrix = csr_matrix((data, indices, indptr), shape=shape)"
   ]
  },
  {
   "cell_type": "code",
   "execution_count": 13,
   "id": "366457e0",
   "metadata": {},
   "outputs": [],
   "source": [
    "def sum_rows_excluding_diagonal(sparse_mat):\n",
    "    # Get the shape of the matrix\n",
    "    n_rows, n_cols = sparse_mat.shape\n",
    "\n",
    "    # Initialize an array to store the row sums\n",
    "    row_sums_excluding_diagonal = np.zeros(n_rows)\n",
    "\n",
    "    # Iterate over each row\n",
    "    for i in range(n_rows):\n",
    "        # Get the start and end indices of the data in the current row\n",
    "        start_index = sparse_mat.indptr[i]\n",
    "        end_index = sparse_mat.indptr[i + 1]\n",
    "\n",
    "        # Get the column indices and data for the current row\n",
    "        row_indices = sparse_mat.indices[start_index:end_index]\n",
    "        row_data = sparse_mat.data[start_index:end_index]\n",
    "\n",
    "        # Sum the elements excluding the diagonal element\n",
    "        row_sum = sum(row_data[j] for j in range(len(row_data)) if row_indices[j] != i)\n",
    "\n",
    "        # Store the sum in the result array\n",
    "        row_sums_excluding_diagonal[i] = row_sum\n",
    "\n",
    "    return row_sums_excluding_diagonal\n",
    "\n",
    "\n",
    "# Calculate the row sums excluding the diagonal\n",
    "signal = sum_rows_excluding_diagonal(contact_matrix)\n"
   ]
  },
  {
   "cell_type": "code",
   "execution_count": 14,
   "id": "9ed5b76f",
   "metadata": {},
   "outputs": [
    {
     "data": {
      "text/html": [
       "<div>\n",
       "<style scoped>\n",
       "    .dataframe tbody tr th:only-of-type {\n",
       "        vertical-align: middle;\n",
       "    }\n",
       "\n",
       "    .dataframe tbody tr th {\n",
       "        vertical-align: top;\n",
       "    }\n",
       "\n",
       "    .dataframe thead th {\n",
       "        text-align: right;\n",
       "    }\n",
       "</style>\n",
       "<table border=\"1\" class=\"dataframe\">\n",
       "  <thead>\n",
       "    <tr style=\"text-align: right;\">\n",
       "      <th></th>\n",
       "      <th>name</th>\n",
       "      <th>site</th>\n",
       "      <th>length</th>\n",
       "      <th>coverage</th>\n",
       "      <th>covcc</th>\n",
       "      <th>True_identity</th>\n",
       "      <th>signal</th>\n",
       "    </tr>\n",
       "  </thead>\n",
       "  <tbody>\n",
       "    <tr>\n",
       "      <th>0</th>\n",
       "      <td>k141_13348</td>\n",
       "      <td>14</td>\n",
       "      <td>1445</td>\n",
       "      <td>11.5019</td>\n",
       "      <td>44</td>\n",
       "      <td>kudriavzevii</td>\n",
       "      <td>9.0</td>\n",
       "    </tr>\n",
       "    <tr>\n",
       "      <th>1</th>\n",
       "      <td>k141_1</td>\n",
       "      <td>6</td>\n",
       "      <td>1102</td>\n",
       "      <td>15.3950</td>\n",
       "      <td>9</td>\n",
       "      <td>kudriavzevii</td>\n",
       "      <td>4.0</td>\n",
       "    </tr>\n",
       "    <tr>\n",
       "      <th>2</th>\n",
       "      <td>k141_10680</td>\n",
       "      <td>9</td>\n",
       "      <td>1191</td>\n",
       "      <td>618.3390</td>\n",
       "      <td>194</td>\n",
       "      <td>cerevisiae</td>\n",
       "      <td>150.0</td>\n",
       "    </tr>\n",
       "    <tr>\n",
       "      <th>3</th>\n",
       "      <td>k141_9790</td>\n",
       "      <td>92</td>\n",
       "      <td>4211</td>\n",
       "      <td>500.7790</td>\n",
       "      <td>10020</td>\n",
       "      <td>uvarum</td>\n",
       "      <td>5485.0</td>\n",
       "    </tr>\n",
       "    <tr>\n",
       "      <th>4</th>\n",
       "      <td>k141_2</td>\n",
       "      <td>15</td>\n",
       "      <td>2821</td>\n",
       "      <td>17.4684</td>\n",
       "      <td>173</td>\n",
       "      <td>kudriavzevii</td>\n",
       "      <td>23.0</td>\n",
       "    </tr>\n",
       "    <tr>\n",
       "      <th>...</th>\n",
       "      <td>...</td>\n",
       "      <td>...</td>\n",
       "      <td>...</td>\n",
       "      <td>...</td>\n",
       "      <td>...</td>\n",
       "      <td>...</td>\n",
       "      <td>...</td>\n",
       "    </tr>\n",
       "    <tr>\n",
       "      <th>5278</th>\n",
       "      <td>k141_13334</td>\n",
       "      <td>64</td>\n",
       "      <td>5930</td>\n",
       "      <td>57.2666</td>\n",
       "      <td>140</td>\n",
       "      <td>gossypii</td>\n",
       "      <td>24.0</td>\n",
       "    </tr>\n",
       "    <tr>\n",
       "      <th>5279</th>\n",
       "      <td>k141_13335</td>\n",
       "      <td>83</td>\n",
       "      <td>6085</td>\n",
       "      <td>103.4340</td>\n",
       "      <td>1458</td>\n",
       "      <td>castellii</td>\n",
       "      <td>449.0</td>\n",
       "    </tr>\n",
       "    <tr>\n",
       "      <th>5280</th>\n",
       "      <td>k141_13340</td>\n",
       "      <td>14</td>\n",
       "      <td>1165</td>\n",
       "      <td>15.9094</td>\n",
       "      <td>11</td>\n",
       "      <td>kudriavzevii</td>\n",
       "      <td>4.0</td>\n",
       "    </tr>\n",
       "    <tr>\n",
       "      <th>5281</th>\n",
       "      <td>k141_13342</td>\n",
       "      <td>204</td>\n",
       "      <td>15692</td>\n",
       "      <td>92.8114</td>\n",
       "      <td>3787</td>\n",
       "      <td>kluyveri</td>\n",
       "      <td>1127.0</td>\n",
       "    </tr>\n",
       "    <tr>\n",
       "      <th>5282</th>\n",
       "      <td>k141_13343</td>\n",
       "      <td>129</td>\n",
       "      <td>9279</td>\n",
       "      <td>55.2093</td>\n",
       "      <td>1787</td>\n",
       "      <td>paradoxus</td>\n",
       "      <td>352.0</td>\n",
       "    </tr>\n",
       "  </tbody>\n",
       "</table>\n",
       "<p>5283 rows × 7 columns</p>\n",
       "</div>"
      ],
      "text/plain": [
       "            name  site  length  coverage  covcc True_identity  signal\n",
       "0     k141_13348    14    1445   11.5019     44  kudriavzevii     9.0\n",
       "1         k141_1     6    1102   15.3950      9  kudriavzevii     4.0\n",
       "2     k141_10680     9    1191  618.3390    194    cerevisiae   150.0\n",
       "3      k141_9790    92    4211  500.7790  10020        uvarum  5485.0\n",
       "4         k141_2    15    2821   17.4684    173  kudriavzevii    23.0\n",
       "...          ...   ...     ...       ...    ...           ...     ...\n",
       "5278  k141_13334    64    5930   57.2666    140      gossypii    24.0\n",
       "5279  k141_13335    83    6085  103.4340   1458     castellii   449.0\n",
       "5280  k141_13340    14    1165   15.9094     11  kudriavzevii     4.0\n",
       "5281  k141_13342   204   15692   92.8114   3787      kluyveri  1127.0\n",
       "5282  k141_13343   129    9279   55.2093   1787     paradoxus   352.0\n",
       "\n",
       "[5283 rows x 7 columns]"
      ]
     },
     "execution_count": 14,
     "metadata": {},
     "output_type": "execute_result"
    }
   ],
   "source": [
    "contig_info_combine[\"signal\"] = signal\n",
    "contig_info_combine"
   ]
  },
  {
   "cell_type": "code",
   "execution_count": 15,
   "id": "21046bc7",
   "metadata": {},
   "outputs": [],
   "source": [
    "# calculate the coffecient\n",
    "coffecient = normcc(contig_info_combine)"
   ]
  },
  {
   "cell_type": "code",
   "execution_count": null,
   "id": "0251ddba",
   "metadata": {},
   "outputs": [],
   "source": []
  },
  {
   "cell_type": "code",
   "execution_count": null,
   "id": "1179d7dd",
   "metadata": {},
   "outputs": [],
   "source": []
  },
  {
   "cell_type": "code",
   "execution_count": null,
   "id": "94be5a01",
   "metadata": {},
   "outputs": [],
   "source": []
  },
  {
   "cell_type": "markdown",
   "id": "6af26743",
   "metadata": {},
   "source": [
    "## Perform NormCC in the contact_matrix"
   ]
  },
  {
   "cell_type": "code",
   "execution_count": 16,
   "id": "9b76020e",
   "metadata": {},
   "outputs": [],
   "source": [
    "# Perform NormCC\n",
    "norm = NormCCMap(path = path , contig_info=contig_info_combine , seq_map=contact_matrix , norm_result=coffecient , thres=0.6)\n"
   ]
  },
  {
   "cell_type": "code",
   "execution_count": 26,
   "id": "3be64f22",
   "metadata": {},
   "outputs": [
    {
     "data": {
      "text/plain": [
       "<5283x5283 sparse matrix of type '<class 'numpy.float64'>'\n",
       "\twith 1118849 stored elements in COOrdinate format>"
      ]
     },
     "execution_count": 26,
     "metadata": {},
     "output_type": "execute_result"
    }
   ],
   "source": []
  },
  {
   "cell_type": "code",
   "execution_count": null,
   "id": "accc4f44",
   "metadata": {},
   "outputs": [],
   "source": []
  },
  {
   "cell_type": "markdown",
   "id": "b08611b9",
   "metadata": {},
   "source": [
    "## Determine whether it's inter-contacts or intra-contacts"
   ]
  },
  {
   "cell_type": "code",
   "execution_count": 17,
   "id": "f69b7b4c",
   "metadata": {},
   "outputs": [],
   "source": [
    "coo_contact_matrix = contact_matrix.tocoo()\n",
    "rows = coo_contact_matrix.row\n",
    "cols = coo_contact_matrix.col"
   ]
  },
  {
   "cell_type": "code",
   "execution_count": 18,
   "id": "cb769976",
   "metadata": {},
   "outputs": [],
   "source": [
    "lil_matrix = coo_contact_matrix.tolil()\n"
   ]
  },
  {
   "cell_type": "code",
   "execution_count": null,
   "id": "0d5a78ba",
   "metadata": {},
   "outputs": [],
   "source": []
  },
  {
   "cell_type": "code",
   "execution_count": 19,
   "id": "0ed20c39",
   "metadata": {},
   "outputs": [
    {
     "data": {
      "text/plain": [
       "array([], dtype=int64)"
      ]
     },
     "execution_count": 19,
     "metadata": {},
     "output_type": "execute_result"
    }
   ],
   "source": [
    "np.intersect1d(lil_matrix.rows[0], lil_matrix.rows[4])"
   ]
  },
  {
   "cell_type": "code",
   "execution_count": 20,
   "id": "cec2326f",
   "metadata": {},
   "outputs": [],
   "source": [
    "_index = rows < cols\n",
    "data = data[_index]\n",
    "rows = rows[_index]\n",
    "cols = cols[_index]\n"
   ]
  },
  {
   "cell_type": "code",
   "execution_count": 21,
   "id": "3404d1ef",
   "metadata": {},
   "outputs": [
    {
     "name": "stderr",
     "output_type": "stream",
     "text": [
      "100%|██████████| 556783/556783 [00:03<00:00, 147424.45it/s]\n"
     ]
    }
   ],
   "source": [
    "#   I will create a list has equal length as the non-zero entries in the matrix, \n",
    "# and set it to 0 if it's inter-species contact, 1 if it's intra-species contact.\n",
    "contact_valid = [1] * len(data)\n",
    "\n",
    "for i in tqdm(range(len(contact_valid))):\n",
    "    row = rows[i]\n",
    "    col = cols[i]\n",
    "    if contig_info_combine[\"True_identity\"][row] != contig_info_combine[\"True_identity\"][col]:\n",
    "        contact_valid[i] = 0\n",
    "        "
   ]
  },
  {
   "cell_type": "code",
   "execution_count": null,
   "id": "231bc5ce",
   "metadata": {},
   "outputs": [],
   "source": []
  },
  {
   "cell_type": "markdown",
   "id": "97e3daea",
   "metadata": {},
   "source": [
    "## Calculate the local similarity index"
   ]
  },
  {
   "cell_type": "code",
   "execution_count": 27,
   "id": "27493826",
   "metadata": {},
   "outputs": [
    {
     "name": "stderr",
     "output_type": "stream",
     "text": [
      "100%|██████████| 5283/5283 [05:13<00:00, 16.83it/s]\n",
      "100%|██████████| 5283/5283 [04:01<00:00, 21.87it/s] \n"
     ]
    }
   ],
   "source": [
    "sorenson_matrix_raw = sorenson(contact_matrix)\n",
    "salton_matrix_raw = salton(contact_matrix)\n",
    "\n",
    "sorenson_matrix_norm = sorenson(norm.seq_map)\n",
    "salton_matrix_norm = salton(norm.seq_map)"
   ]
  },
  {
   "cell_type": "code",
   "execution_count": 29,
   "id": "c23a9e27",
   "metadata": {},
   "outputs": [],
   "source": [
    "##drop out the lowest 10 percent\n",
    "\n",
    "salton_seq_raw, salton_row, salton_col = drop_lowest(salton_matrix_raw, 0.1)\n",
    "sorenson_seq_raw, sorenson_row, sorenson_col = drop_lowest(sorenson_matrix_raw, 0.1)\n",
    "\n",
    "salton_seq_norm, salton_row_norm, salton_col_norm = drop_lowest(salton_matrix_norm, 0.1)\n",
    "sorenson_seq_norm, sorenson_row_norm, sorenson_col_norm = drop_lowest(sorenson_matrix_norm, 0.1)"
   ]
  },
  {
   "cell_type": "code",
   "execution_count": 24,
   "id": "cf5b73bc",
   "metadata": {},
   "outputs": [
    {
     "name": "stderr",
     "output_type": "stream",
     "text": [
      "100%|██████████| 9015139/9015139 [01:01<00:00, 147273.90it/s]\n"
     ]
    }
   ],
   "source": [
    "# calculate the true connection for local similarity\n",
    "contact_local = [1] * len(salton_seq)\n",
    "\n",
    "for i in tqdm(range(len(contact_local))):\n",
    "    row = salton_row[i]\n",
    "    col = salton_col[i]\n",
    "    if contig_info_combine[\"True_identity\"][row] != contig_info_combine[\"True_identity\"][col]:\n",
    "        contact_local[i] = 0"
   ]
  },
  {
   "cell_type": "code",
   "execution_count": 54,
   "id": "034f3ca0",
   "metadata": {},
   "outputs": [
    {
     "data": {
      "text/plain": [
       "556783"
      ]
     },
     "execution_count": 54,
     "metadata": {},
     "output_type": "execute_result"
    }
   ],
   "source": []
  },
  {
   "cell_type": "markdown",
   "id": "b52b4af4",
   "metadata": {},
   "source": [
    "## Draw the AUC"
   ]
  },
  {
   "cell_type": "code",
   "execution_count": 32,
   "id": "4cb46c10",
   "metadata": {},
   "outputs": [],
   "source": []
  },
  {
   "cell_type": "code",
   "execution_count": 33,
   "id": "4a2da3d1",
   "metadata": {},
   "outputs": [],
   "source": [
    "norm = NormCCMap(path = path , contig_info=contig_info_combine , seq_map=contact_matrix , norm_result=coffecient , thres=percent)\n"
   ]
  },
  {
   "cell_type": "code",
   "execution_count": 34,
   "id": "bdc2027c",
   "metadata": {},
   "outputs": [],
   "source": [
    "\n",
    "fpr_salton_raw, tpr_salton_raw, _ = roc_curve(contact_local, salton_seq_raw)\n",
    "fpr_sorenson_raw, tpr_sorenson_raw, _ = roc_curve(contact_local, sorenson_seq_raw)\n",
    "\n",
    "fpr_salton_norm, tpr_salton_norm, _ = roc_curve(contact_local, salton_seq_norm)\n",
    "fpr_sorenson_norm, tpr_sorenson_norm, _ = roc_curve(contact_local, sorenson_seq_norm)"
   ]
  },
  {
   "cell_type": "code",
   "execution_count": 35,
   "id": "7ecaa95b",
   "metadata": {},
   "outputs": [],
   "source": [
    "\n",
    "roc_auc_salton_raw = auc(fpr_salton_raw, tpr_salton_raw)\n",
    "roc_auc_sorenson_raw = auc(fpr_sorenson_raw, tpr_sorenson_raw)\n",
    "\n",
    "roc_auc_salton_norm = auc(fpr_salton_norm, tpr_salton_norm)\n",
    "roc_auc_sorenson_norm = auc(fpr_sorenson_norm, tpr_sorenson_norm)"
   ]
  },
  {
   "cell_type": "code",
   "execution_count": 37,
   "id": "a708f992",
   "metadata": {},
   "outputs": [
    {
     "data": {
      "image/png": "[encoded data removed]",
      "text/plain": [
       "<Figure size 432x288 with 1 Axes>"
      ]
     },
     "metadata": {
      "needs_background": "light"
     },
     "output_type": "display_data"
    }
   ],
   "source": [
    "import matplotlib.pyplot as plt\n",
    "\n",
    "plt.figure()\n",
    "lw = 2  # line width\n",
    "plt.plot(fpr_salton_norm, tpr_salton_norm, color='blue',\n",
    "         lw=lw, label=f'normalized salton (AUC = {roc_auc_salton_norm:.2f})')\n",
    "plt.plot(fpr_sorenson_norm, tpr_sorenson_norm, color=\"red\", \n",
    "        lw=lw, label=f'normalized sorenson (AUC = {roc_auc_sorenson_norm:.2f})')\n",
    "plt.plot(fpr_salton_raw, tpr_salton_raw, color='black',\n",
    "         lw=lw, label=f'salton raw(AUC = {roc_auc_salton_raw:.2f})')\n",
    "plt.plot(fpr_sorenson_raw, tpr_sorenson_raw, color=\"green\", \n",
    "        lw=lw, label=f'sorenson raw (AUC = {roc_auc_sorenson_raw:.2f})')\n",
    "\n",
    "plt.plot([0, 1], [0, 1], color='navy', lw=2, linestyle='--')\n",
    "plt.xlim([0.0, 1.0])\n",
    "plt.ylim([0.0, 1.05])\n",
    "plt.xlabel('Proportation of retained intra-species contacts')\n",
    "plt.ylabel('Proportation of discard spurious contacts')\n",
    "plt.title('Discard retained curve')\n",
    "plt.legend(loc=\"lower right\")\n",
    "plt.grid(True)\n",
    "plt.show()"
   ]
  },
  {
   "cell_type": "markdown",
   "id": "602e96a2",
   "metadata": {},
   "source": [
    "#### question: if there are multiple contacts for the same pairs of contigs, I should count it as 1 when calculate the multiple contacts or counted as the number as it is?\n"
   ]
  },
  {
   "cell_type": "code",
   "execution_count": 22,
   "id": "17923394",
   "metadata": {},
   "outputs": [
    {
     "data": {
      "text/plain": [
       "array([1, 1, 1, ..., 2, 3, 1], dtype=uint32)"
      ]
     },
     "execution_count": 22,
     "metadata": {},
     "output_type": "execute_result"
    }
   ],
   "source": [
    "data"
   ]
  },
  {
   "cell_type": "code",
   "execution_count": null,
   "id": "847aa6e2",
   "metadata": {},
   "outputs": [],
   "source": []
  }
 ],
 "metadata": {
  "kernelspec": {
   "display_name": "Python 3",
   "language": "python",
   "name": "python3"
  },
  "language_info": {
   "codemirror_mode": {
    "name": "ipython",
    "version": 3
   },
   "file_extension": ".py",
   "mimetype": "text/x-python",
   "name": "python",
   "nbconvert_exporter": "python",
   "pygments_lexer": "ipython3",
   "version": "3.8.5"
  }
 },
 "nbformat": 4,
 "nbformat_minor": 5
}
