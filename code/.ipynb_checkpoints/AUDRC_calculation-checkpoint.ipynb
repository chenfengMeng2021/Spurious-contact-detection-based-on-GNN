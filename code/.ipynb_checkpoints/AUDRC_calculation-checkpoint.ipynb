{
 "cells": [
  {
   "cell_type": "code",
   "execution_count": 1,
   "id": "d9b4ed4e",
   "metadata": {},
   "outputs": [],
   "source": [
    "import numpy as np\n",
    "import pandas as pd\n",
    "import statsmodels.api as sm\n",
    "from scipy.sparse import csr_matrix,load_npz, coo_matrix\n",
    "from tqdm import tqdm\n",
    "from math import log,exp,sqrt\n",
    "import logging\n",
    "import copy\n",
    "from sklearn.metrics import roc_curve, auc\n",
    "from sklearn.metrics.pairwise import cosine_similarity\n",
    "from scipy.sparse import csr_matrix, linalg, identity, lil_matrix, hstack\n",
    "import networkx as nx\n",
    "\n",
    "contig_file = \"../data/corrected_contig_info_combine.csv\"\n",
    "raw_contact_file = \"../data/raw_contact_matrix.npz\"\n",
    "path = \"../data\""
   ]
  },
  {
   "cell_type": "markdown",
   "id": "ac512649",
   "metadata": {},
   "source": [
    "## Auxiliary function"
   ]
  },
  {
   "cell_type": "code",
   "execution_count": 2,
   "id": "1a978ed8",
   "metadata": {},
   "outputs": [],
   "source": [
    "def sum_rows_excluding_diagonal(sparse_mat):\n",
    "    sparse_mat = csr_matrix(sparse_mat)\n",
    "    # Get the shape of the matrix\n",
    "    n_rows, n_cols = sparse_mat.shape\n",
    "\n",
    "    # Initialize an array to store the row sums\n",
    "    row_sums_excluding_diagonal = np.zeros(n_rows)\n",
    "\n",
    "    # Iterate over each row\n",
    "    for i in range(n_rows):\n",
    "        # Get the start and end indices of the data in the current row\n",
    "        start_index = sparse_mat.indptr[i]\n",
    "        end_index = sparse_mat.indptr[i + 1]\n",
    "\n",
    "        # Get the column indices and data for the current row\n",
    "        row_indices = sparse_mat.indices[start_index:end_index]\n",
    "        row_data = sparse_mat.data[start_index:end_index]\n",
    "\n",
    "        # Sum the elements excluding the diagonal element\n",
    "        row_sum = sum(row_data[j] for j in range(len(row_data)) if row_indices[j] != i)\n",
    "\n",
    "        # Store the sum in the result array\n",
    "        row_sums_excluding_diagonal[i] = row_sum\n",
    "\n",
    "    return row_sums_excluding_diagonal\n",
    "\n"
   ]
  },
  {
   "cell_type": "code",
   "execution_count": 3,
   "id": "91e947ab",
   "metadata": {},
   "outputs": [],
   "source": [
    "def normcc(df):\n",
    "\n",
    "    df['log_site'] = np.log(df['site'])\n",
    "    df['log_length'] = np.log(df['length'])\n",
    "    df['log_covcc'] = np.log(df['covcc'])\n",
    "    \n",
    "    exog = df[['log_site', 'log_length', 'log_covcc']]\n",
    "    endog = df[\"signal\"]\n",
    "    exog = sm.add_constant(exog)\n",
    "    glm_nb = sm.GLM(endog, exog, family=sm.families.NegativeBinomial(alpha=1))\n",
    "    res = glm_nb.fit(method=\"lbfgs\")\n",
    "\n",
    "    return res.params\n",
    "\n"
   ]
  },
  {
   "cell_type": "code",
   "execution_count": null,
   "id": "2e07e2a1",
   "metadata": {},
   "outputs": [],
   "source": []
  },
  {
   "cell_type": "code",
   "execution_count": 4,
   "id": "f370e6b8",
   "metadata": {},
   "outputs": [],
   "source": [
    "def normalizemap(norm_params, metadata, contact_matrix):\n",
    "    contact_matrix = contact_matrix.tocoo()\n",
    "    norm_data = []\n",
    "    mu_vector = []\n",
    "    for site, length, covcc in zip(metadata[\"site\"], metadata['length'], metadata['covcc']):\n",
    "        mu_vector.append(np.exp(log(site) * norm_params['log_site'] +\n",
    "                    log(length) * norm_params['log_length'] +\n",
    "                    log(covcc) * norm_params['log_covcc'] +\n",
    "                    norm_params['const']))\n",
    "        \n",
    "    scale = np.max(mu_vector)\n",
    "    for idx, value in enumerate(contact_matrix.data):\n",
    "        i, j = contact_matrix.row[idx], contact_matrix.col[idx]\n",
    "        norm_value = scale * value / np.sqrt(mu_vector[i] * mu_vector[j])\n",
    "        norm_data.append(norm_value)\n",
    "    \n",
    "    return coo_matrix((norm_data, (contact_matrix.row, contact_matrix.col)), shape=contact_matrix.shape)\n"
   ]
  },
  {
   "cell_type": "code",
   "execution_count": 5,
   "id": "6e944c3b",
   "metadata": {},
   "outputs": [],
   "source": [
    "def calculate_true_positives(contact_matrix, metadata, self_loop):\n",
    "    species_map = dict(zip(metadata['name'], metadata['True_identity']))\n",
    "    true_positives = set()\n",
    "    for i, j in zip(contact_matrix.row, contact_matrix.col):\n",
    "        if i == j and self_loop == False:\n",
    "            continue  # Skip self-loops\n",
    "        contig1 = metadata.loc[i, 'name']\n",
    "        contig2 = metadata.loc[j, 'name']\n",
    "        if species_map.get(contig1) == species_map.get(contig2):\n",
    "            true_positives.add((i, j))\n",
    "    return true_positives\n"
   ]
  },
  {
   "cell_type": "code",
   "execution_count": 6,
   "id": "6c4ceda7",
   "metadata": {},
   "outputs": [],
   "source": [
    "# Function to calculate AUDRC\n",
    "def calculate_audrc(scores):\n",
    "    scores.sort(key=lambda x: x[2], reverse=True)\n",
    "    true_positive_count = sum(1 for _, _, _, is_tp in scores if is_tp)\n",
    "    spurious_contact_count = len(scores) - true_positive_count\n",
    "    tpr = []\n",
    "    discard_proportion = []\n",
    "    thresholds = np.percentile([x[2] for x in scores], np.arange(0, 100, 5))\n",
    "    for threshold in thresholds:\n",
    "        tp_cumsum = sum(1 for _, _, score, is_tp in scores if score >= threshold and is_tp)\n",
    "        spurious_cumsum = sum(1 for _, _, score, is_tp in scores if score < threshold and not is_tp)\n",
    "        tpr.append(tp_cumsum / true_positive_count)\n",
    "        discard_proportion.append(spurious_cumsum / spurious_contact_count)\n",
    "    audrc = auc(discard_proportion, tpr)\n",
    "    return audrc, tpr, discard_proportion"
   ]
  },
  {
   "cell_type": "code",
   "execution_count": 7,
   "id": "b43a8fd8",
   "metadata": {},
   "outputs": [],
   "source": [
    "# Function to extract neighbors and edge weights\n",
    "def extract_neighbors_and_weights(contact_matrix, self_loop):\n",
    "    neighbors = {}\n",
    "    row, col, data = contact_matrix.row, contact_matrix.col, contact_matrix.data\n",
    "    for i, j, weight in zip(row, col, data):\n",
    "        if i == j and self_loop == False:\n",
    "            continue  # Skip self-loops\n",
    "        if i not in neighbors:\n",
    "            neighbors[i] = {}\n",
    "        if j not in neighbors:\n",
    "            neighbors[j] = {}\n",
    "        neighbors[i][j] = float(weight)\n",
    "        neighbors[j][i] = float(weight)  \n",
    "    return neighbors\n"
   ]
  },
  {
   "cell_type": "code",
   "execution_count": 8,
   "id": "8ca3dc41",
   "metadata": {},
   "outputs": [],
   "source": [
    "# Function to calculate Salton Index\n",
    "def salton_index(contact_matrix, self_loop):\n",
    "    neighbors = extract_neighbors_and_weights(contact_matrix, self_loop)\n",
    "    salton_scores = []\n",
    "    for i in neighbors:\n",
    "        for j in neighbors[i]:\n",
    "            neighbors_i = set(neighbors[i].keys())\n",
    "            neighbors_j = set(neighbors[j].keys())\n",
    "            common_neighbors = neighbors_i & neighbors_j\n",
    "            numerator = sum(neighbors[i][k] * neighbors[j][k] for k in common_neighbors)\n",
    "            denominator = np.sqrt(sum(neighbors[i][k]**2 for k in neighbors_i) * sum(neighbors[j][k]**2 for k in neighbors_j))\n",
    "            salton_scores.append((i, j, numerator / denominator if denominator != 0 else 0))\n",
    "    return salton_scores\n"
   ]
  },
  {
   "cell_type": "code",
   "execution_count": 9,
   "id": "3dac213b",
   "metadata": {},
   "outputs": [],
   "source": [
    "# Function to calculate Sørensen Index\n",
    "def sorensen_index(contact_matrix, self_loop):\n",
    "    neighbors = extract_neighbors_and_weights(contact_matrix, self_loop)\n",
    "    sorensen_scores = []\n",
    "    for i in neighbors:\n",
    "        for j in neighbors[i]:\n",
    "            neighbors_i = set(neighbors[i].keys())\n",
    "            neighbors_j = set(neighbors[j].keys())\n",
    "            common_neighbors = neighbors_i & neighbors_j\n",
    "            numerator = 2 * sum(min(neighbors[i][k], neighbors[j][k]) for k in common_neighbors)\n",
    "            denominator = sum(neighbors[i][k] for k in neighbors_i) + sum(neighbors[j][k] for k in neighbors_j)\n",
    "            sorensen_scores.append((i, j, numerator / denominator if denominator != 0 else 0))\n",
    "    return sorensen_scores\n",
    "\n",
    "\n"
   ]
  },
  {
   "cell_type": "code",
   "execution_count": 10,
   "id": "f0f8202c",
   "metadata": {},
   "outputs": [],
   "source": [
    "def jacard_index(contact_matrix, self_loop):\n",
    "    neighbors = extract_neighbors_and_weights(contact_matrix, self_loop)\n",
    "    jacard_scores = []\n",
    "    for i in neighbors:\n",
    "        for j in neighbors[i]:\n",
    "            neighbors_i = set(neighbors[i].keys())\n",
    "            neighbors_j = set(neighbors[j].keys())\n",
    "            common_neighbors = neighbors_i & neighbors_j\n",
    "            numerator = sum(min(neighbors[i][k], neighbors[j][k]) for k in common_neighbors)\n",
    "            denominator = sum(max(neighbors[i][k], neighbors[j][k]) for k in common_neighbors) + sum(neighbors[i][k] for k in neighbors_i - neighbors_j) + sum(neighbors[j][k] for k in neighbors_j - neighbors_i)\n",
    "            jacard_scores.append((i, j, numerator / denominator if denominator != 0 else 0))\n",
    "    return jacard_scores\n",
    "            "
   ]
  },
  {
   "cell_type": "code",
   "execution_count": 11,
   "id": "061078d9",
   "metadata": {},
   "outputs": [],
   "source": [
    "def lhn_index(contact_matri, self_loop):\n",
    "    neighbors = extract_neighbors_and_weights(contact_matrix, self_loop)\n",
    "    lhn_scores = []\n",
    "    for i in neighbors:\n",
    "        for j in neighbors[i]:\n",
    "            neighbors_i = set(neighbors[i].keys())\n",
    "            neighbors_j = set(neighbors[j].keys())\n",
    "            common_neighbors = neighbors_i & neighbors_j\n",
    "            numerator = sum(neighbors[i][k] * neighbors[j][k] for k in common_neighbors)\n",
    "            denominator = sum(neighbors[i]) * sum(neighbors[j])\n",
    "            lhn_scores.append((i, j, numerator/ denominator if denominator !=0 else 0))\n",
    "    return lhn_scores"
   ]
  },
  {
   "cell_type": "code",
   "execution_count": null,
   "id": "2b787ecf",
   "metadata": {},
   "outputs": [],
   "source": []
  },
  {
   "cell_type": "code",
   "execution_count": null,
   "id": "a3cad0fc",
   "metadata": {},
   "outputs": [],
   "source": []
  },
  {
   "cell_type": "code",
   "execution_count": null,
   "id": "9c707c1d",
   "metadata": {},
   "outputs": [],
   "source": []
  },
  {
   "cell_type": "markdown",
   "id": "4e95688a",
   "metadata": {},
   "source": [
    "## Data Loading and Preparation"
   ]
  },
  {
   "cell_type": "code",
   "execution_count": 12,
   "id": "3d349e20",
   "metadata": {},
   "outputs": [],
   "source": [
    "contact_matrix = load_npz(raw_contact_file).tocoo()\n",
    "meta_data = pd.read_csv(contig_file)\n"
   ]
  },
  {
   "cell_type": "code",
   "execution_count": 13,
   "id": "f066919f",
   "metadata": {},
   "outputs": [],
   "source": [
    "names = ['name', 'site', 'length', 'coverage', 'covcc', \"True_identity\"]\n",
    "meta_data.columns = names"
   ]
  },
  {
   "cell_type": "code",
   "execution_count": 14,
   "id": "f3ded5ea",
   "metadata": {},
   "outputs": [],
   "source": [
    "# Calculate the row sums excluding the diagonal\n",
    "signal = sum_rows_excluding_diagonal(contact_matrix)\n",
    "meta_data[\"signal\"] = signal"
   ]
  },
  {
   "cell_type": "code",
   "execution_count": null,
   "id": "f5f414bd",
   "metadata": {},
   "outputs": [],
   "source": []
  },
  {
   "cell_type": "code",
   "execution_count": 15,
   "id": "56c8ad59",
   "metadata": {},
   "outputs": [],
   "source": [
    "# calculate the coffecient\n",
    "coffecient = normcc(meta_data)"
   ]
  },
  {
   "cell_type": "code",
   "execution_count": null,
   "id": "97e6ace8",
   "metadata": {},
   "outputs": [],
   "source": []
  },
  {
   "cell_type": "code",
   "execution_count": null,
   "id": "7e9c9327",
   "metadata": {},
   "outputs": [],
   "source": []
  },
  {
   "cell_type": "markdown",
   "id": "0118743d",
   "metadata": {},
   "source": [
    "## Perform NormCC in the contact_matrix"
   ]
  },
  {
   "cell_type": "code",
   "execution_count": 16,
   "id": "091a320b",
   "metadata": {},
   "outputs": [],
   "source": [
    "norm_contact_matrix = normalizemap(coffecient, meta_data, contact_matrix)"
   ]
  },
  {
   "cell_type": "code",
   "execution_count": 17,
   "id": "9c99c296",
   "metadata": {},
   "outputs": [
    {
     "name": "stdout",
     "output_type": "stream",
     "text": [
      "  (0, 0)\t871047.814986251\n",
      "  (0, 185)\t25223.742608933513\n",
      "  (0, 1430)\t19908.193328339228\n",
      "  (0, 1691)\t22223.509555125675\n",
      "  (0, 2251)\t9459.678381011232\n",
      "  (0, 2638)\t2580.9734219813\n",
      "  (0, 3346)\t2206.594389461819\n",
      "  (0, 4732)\t49581.183911359585\n",
      "  (1, 1)\t769095.347891592\n",
      "  (1, 546)\t86856.44370238179\n",
      "  (1, 3689)\t10026.792784459738\n",
      "  (1, 5242)\t3069.2091253336857\n",
      "  (2, 2)\t735997.8680959609\n",
      "  (2, 147)\t4661.20854385754\n",
      "  (2, 466)\t301.33405606615486\n",
      "  (2, 508)\t3040.617557024549\n",
      "  (2, 573)\t3299.8681705577765\n",
      "  (2, 701)\t318.207857623305\n",
      "  (2, 725)\t888.2958727568692\n",
      "  (2, 942)\t482.7229896725572\n",
      "  (2, 958)\t372.0449268280042\n",
      "  (2, 1044)\t402.69971219714796\n",
      "  (2, 1057)\t1717.5436588950681\n",
      "  (2, 1353)\t27051.205152954582\n",
      "  (2, 1494)\t16629.352496971376\n",
      "  :\t:\n",
      "  (5282, 4210)\t249.10673638428187\n",
      "  (5282, 4255)\t1834.258292047157\n",
      "  (5282, 4280)\t522.5569211271555\n",
      "  (5282, 4319)\t540.8686327985384\n",
      "  (5282, 4321)\t170.93330060201657\n",
      "  (5282, 4323)\t515.1174566877426\n",
      "  (5282, 4330)\t408.7492820172158\n",
      "  (5282, 4425)\t378.0659828886342\n",
      "  (5282, 4527)\t433.0434563022517\n",
      "  (5282, 4531)\t224.10966294223394\n",
      "  (5282, 4548)\t232.23219401164454\n",
      "  (5282, 4681)\t5017.867280305657\n",
      "  (5282, 4746)\t1410.3858738436295\n",
      "  (5282, 4792)\t1838.225467942631\n",
      "  (5282, 4850)\t981.2327615450706\n",
      "  (5282, 4883)\t1616.6752257588037\n",
      "  (5282, 4981)\t534.2647826816683\n",
      "  (5282, 5064)\t826.3909216568572\n",
      "  (5282, 5082)\t871.6122409038061\n",
      "  (5282, 5133)\t624.7652462365985\n",
      "  (5282, 5142)\t108.33731189134868\n",
      "  (5282, 5179)\t792.4465195826577\n",
      "  (5282, 5215)\t147.19947960898838\n",
      "  (5282, 5256)\t99.11826197122888\n",
      "  (5282, 5282)\t1051898.898016744\n"
     ]
    }
   ],
   "source": [
    "print(norm_contact_matrix)"
   ]
  },
  {
   "cell_type": "markdown",
   "id": "5e479134",
   "metadata": {},
   "source": [
    "## Calculate the local similarity index"
   ]
  },
  {
   "cell_type": "code",
   "execution_count": 18,
   "id": "7e8395ee",
   "metadata": {},
   "outputs": [],
   "source": [
    "## calculate the valid contacts in the map\n",
    "self_loop = True\n",
    "true_contact= calculate_true_positives(contact_matrix, meta_data, self_loop)\n"
   ]
  },
  {
   "cell_type": "code",
   "execution_count": null,
   "id": "692d2c29",
   "metadata": {},
   "outputs": [],
   "source": []
  },
  {
   "cell_type": "code",
   "execution_count": null,
   "id": "fc86bfbc",
   "metadata": {},
   "outputs": [],
   "source": []
  },
  {
   "cell_type": "code",
   "execution_count": 19,
   "id": "885798a3",
   "metadata": {},
   "outputs": [],
   "source": [
    "salton_score_raw = [(i, j, score, (i, j) in true_contact) for (i, j, score) in salton_index(contact_matrix, self_loop)]\n",
    "salton_score_norm = [(i, j, score, (i, j) in true_contact) for (i, j, score) in salton_index(norm_contact_matrix, self_loop)]"
   ]
  },
  {
   "cell_type": "code",
   "execution_count": 20,
   "id": "a7169ff8",
   "metadata": {},
   "outputs": [],
   "source": [
    "sorenson_score_raw = [(i, j, score, (i, j) in true_contact) for (i, j, score) in sorensen_index(contact_matrix, self_loop)]\n",
    "sorenson_score_norm = [(i, j, score, (i, j) in true_contact) for (i, j, score) in sorensen_index(norm_contact_matrix, self_loop)]"
   ]
  },
  {
   "cell_type": "code",
   "execution_count": 21,
   "id": "6aed9467",
   "metadata": {},
   "outputs": [],
   "source": [
    "jacard_score_raw = [(i, j, score, (i, j) in true_contact) for (i, j, score) in jacard_index(contact_matrix, self_loop)]\n",
    "jacard_score_norm = [(i, j, score, (i, j) in true_contact) for (i, j, score) in jacard_index(norm_contact_matrix,self_loop)]"
   ]
  },
  {
   "cell_type": "code",
   "execution_count": 22,
   "id": "a71bf2bd",
   "metadata": {},
   "outputs": [],
   "source": [
    "lhn_score_raw = [(i, j, score, (i, j) in true_contact) for (i, j, score) in lhn_index(contact_matrix, self_loop)]\n",
    "lhn_score_norm = [(i, j, score, (i, j) in true_contact) for (i, j, score) in lhn_index(norm_contact_matrix, self_loop)]"
   ]
  },
  {
   "cell_type": "code",
   "execution_count": null,
   "id": "c32a9422",
   "metadata": {},
   "outputs": [],
   "source": []
  },
  {
   "cell_type": "code",
   "execution_count": 23,
   "id": "260b70ee",
   "metadata": {},
   "outputs": [],
   "source": [
    "auc_salton_raw, tpr_salton_raw, discard_salton_raw = calculate_audrc(salton_score_raw)\n",
    "auc_salton_norm, tpr_salton_norm, discard_salton_norm = calculate_audrc(salton_score_norm)\n"
   ]
  },
  {
   "cell_type": "code",
   "execution_count": 24,
   "id": "b3c8114f",
   "metadata": {},
   "outputs": [],
   "source": [
    "auc_sorenson_raw, tpr_sorenson_raw, discard_sorenson_raw = calculate_audrc(sorenson_score_raw)\n",
    "auc_sorenson_norm, tpr_sorenson_norm, discard_sorenson_norm = calculate_audrc(sorenson_score_norm)\n"
   ]
  },
  {
   "cell_type": "code",
   "execution_count": 25,
   "id": "4027f604",
   "metadata": {},
   "outputs": [],
   "source": [
    "auc_jacard_raw, tpr_jacard_raw, discard_jacard_raw = calculate_audrc(jacard_score_raw)\n",
    "auc_jacard_norm, tpr_jacard_norm, discard_jacard_norm = calculate_audrc(jacard_score_norm)\n"
   ]
  },
  {
   "cell_type": "code",
   "execution_count": 26,
   "id": "940ff7cc",
   "metadata": {},
   "outputs": [],
   "source": [
    "auc_lhn_raw, tpr_lhn_raw, discard_lhn_raw = calculate_audrc(lhn_score_raw)\n",
    "auc_lhn_norm, tpr_lhn_norm, discard_lhn_norm = calculate_audrc(lhn_score_norm)\n"
   ]
  },
  {
   "cell_type": "code",
   "execution_count": null,
   "id": "f9bff104",
   "metadata": {},
   "outputs": [],
   "source": []
  },
  {
   "cell_type": "code",
   "execution_count": 27,
   "id": "be404b3f",
   "metadata": {},
   "outputs": [
    {
     "data": {
      "text/plain": [
       "0.834976360417842"
      ]
     },
     "execution_count": 27,
     "metadata": {},
     "output_type": "execute_result"
    }
   ],
   "source": [
    "auc_salton_raw"
   ]
  },
  {
   "cell_type": "code",
   "execution_count": null,
   "id": "3c8eb5ae",
   "metadata": {},
   "outputs": [],
   "source": []
  },
  {
   "cell_type": "code",
   "execution_count": null,
   "id": "66b2e5f4",
   "metadata": {},
   "outputs": [],
   "source": []
  },
  {
   "cell_type": "code",
   "execution_count": 28,
   "id": "2a9e7dc6",
   "metadata": {},
   "outputs": [],
   "source": [
    "# Function to plot the discard-retain curve\n",
    "def plot_discard_retain_curve(discard_proportion, tpr, audrc, method_label, color):\n",
    "    plt.plot(discard_proportion, tpr, label=f'{method_label}: {audrc:.3f}', color=color)"
   ]
  },
  {
   "cell_type": "code",
   "execution_count": 29,
   "id": "568c39c9",
   "metadata": {},
   "outputs": [
    {
     "data": {
      "image/png": "[encoded data removed]",
      "text/plain": [
       "<Figure size 432x288 with 1 Axes>"
      ]
     },
     "metadata": {
      "needs_background": "light"
     },
     "output_type": "display_data"
    }
   ],
   "source": [
    "import matplotlib.pyplot as plt\n",
    "\n",
    "plt.figure()\n",
    "lw = 2  # line width\n",
    "\n",
    "\n",
    "plot_discard_retain_curve(discard_salton_raw, tpr_salton_raw, auc_salton_raw, 'Salton Index Raw', 'orange')\n",
    "plot_discard_retain_curve(discard_salton_norm, tpr_salton_norm, auc_salton_norm, 'Salton Index Norm', 'blue')\n",
    "plot_discard_retain_curve(discard_sorenson_raw, tpr_sorenson_raw, auc_sorenson_raw, 'Sørensen Index Raw', 'green')\n",
    "plot_discard_retain_curve(discard_sorenson_norm, tpr_sorenson_norm, auc_sorenson_norm, 'Sørensen Index Norm', 'red')\n",
    "\n",
    "\n",
    "plt.plot([0, 1], [0, 1], color='navy', lw=2, linestyle='--')\n",
    "plt.xlim([0.0, 1.0])\n",
    "plt.ylim([0.0, 1.05])\n",
    "plt.xlabel('Proportation of retained intra-species contacts')\n",
    "plt.ylabel('Proportation of discard spurious contacts')\n",
    "plt.title('Discard retained curve')\n",
    "plt.legend(loc=\"lower right\")\n",
    "plt.grid(True)\n",
    "plt.show()"
   ]
  },
  {
   "cell_type": "code",
   "execution_count": 30,
   "id": "9cf0e933",
   "metadata": {},
   "outputs": [
    {
     "data": {
      "image/png": "[encoded data removed]",
      "text/plain": [
       "<Figure size 432x288 with 1 Axes>"
      ]
     },
     "metadata": {
      "needs_background": "light"
     },
     "output_type": "display_data"
    }
   ],
   "source": [
    "plt.figure()\n",
    "lw = 2  # line width\n",
    "\n",
    "plot_discard_retain_curve(discard_jacard_raw, tpr_jacard_raw, auc_jacard_raw, 'Jacard Index Raw', 'orange')\n",
    "plot_discard_retain_curve(discard_jacard_norm, tpr_jacard_norm, auc_jacard_norm, 'Jacard Index Norm', 'blue')\n",
    "plot_discard_retain_curve(discard_lhn_raw, tpr_lhn_raw, auc_lhn_raw, 'Lhn Index Raw', 'green')\n",
    "plot_discard_retain_curve(discard_lhn_norm, tpr_lhn_norm, auc_lhn_norm, 'Lhn Index Norm', 'red')\n",
    "\n",
    "plt.plot([0, 1], [0, 1], color='navy', lw=2, linestyle='--')\n",
    "plt.xlim([0.0, 1.0])\n",
    "plt.ylim([0.0, 1.05])\n",
    "plt.xlabel('Proportation of retained intra-species contacts')\n",
    "plt.ylabel('Proportation of discard spurious contacts')\n",
    "plt.title('Discard retained curve')\n",
    "plt.legend(loc=\"lower right\")\n",
    "plt.grid(True)\n",
    "plt.show()"
   ]
  },
  {
   "cell_type": "code",
   "execution_count": null,
   "id": "e6cf01fc",
   "metadata": {},
   "outputs": [],
   "source": []
  },
  {
   "cell_type": "code",
   "execution_count": null,
   "id": "edd82e81",
   "metadata": {},
   "outputs": [],
   "source": []
  },
  {
   "cell_type": "code",
   "execution_count": null,
   "id": "65a4a066",
   "metadata": {},
   "outputs": [],
   "source": []
  }
 ],
 "metadata": {
  "kernelspec": {
   "display_name": "Python 3",
   "language": "python",
   "name": "python3"
  },
  "language_info": {
   "codemirror_mode": {
    "name": "ipython",
    "version": 3
   },
   "file_extension": ".py",
   "mimetype": "text/x-python",
   "name": "python",
   "nbconvert_exporter": "python",
   "pygments_lexer": "ipython3",
   "version": "3.8.5"
  }
 },
 "nbformat": 4,
 "nbformat_minor": 5
}
