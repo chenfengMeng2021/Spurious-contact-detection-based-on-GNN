{
 "cells": [
  {
   "cell_type": "code",
   "execution_count": 11,
   "id": "1d08d947",
   "metadata": {},
   "outputs": [],
   "source": [
    "import numpy as np\n",
    "import pandas as pd\n",
    "import statsmodels.api as sm\n",
    "from scipy.sparse import csr_matrix\n",
    "from tqdm import tqdm\n",
    "from math import log,exp,sqrt\n",
    "import logging\n",
    "import copy\n",
    "from sklearn.metrics import roc_curve, auc\n",
    "from sklearn.metrics.pairwise import cosine_similarity\n",
    "from scipy.sparse import coo_matrix\n",
    "\n",
    "contig_file = \"../data/corrected_contig_info_combine.csv\"\n",
    "raw_contact_file = \"../data/raw_contact_matrix.npz\""
   ]
  },
  {
   "cell_type": "markdown",
   "id": "b7d3cdf7",
   "metadata": {},
   "source": [
    "## Auxiliary function"
   ]
  },
  {
   "cell_type": "code",
   "execution_count": 2,
   "id": "8ee707de",
   "metadata": {},
   "outputs": [],
   "source": [
    "def normcc(df):\n",
    "\n",
    "    df['sample_site'] = np.log(df['site'])\n",
    "    df['sample_len'] = np.log(df['length'])\n",
    "    df['sample_covcc'] = np.log(df['covcc'])\n",
    "    exog = df[['sample_site', 'sample_len', 'sample_covcc']]\n",
    "    endog = df[\"signal\"]\n",
    "    exog = sm.add_constant(exog)\n",
    "    glm_nb = sm.GLM(endog, exog, family=sm.families.NegativeBinomial(alpha=1))\n",
    "    res = glm_nb.fit(method=\"lbfgs\")\n",
    "    norm_result = res.params.to_list()\n",
    "    return norm_result\n",
    "\n"
   ]
  },
  {
   "cell_type": "code",
   "execution_count": 23,
   "id": "4f67b6aa",
   "metadata": {},
   "outputs": [],
   "source": [
    "#!/usr/bin/env python\n",
    "# coding: utf-8\n",
    "\n",
    "\n",
    "# package logger\n",
    "logger = logging.getLogger(__name__)\n",
    "\n",
    "\n",
    "class NormCCMap:\n",
    "    def __init__(self, path , contig_info , seq_map , norm_result , thres):\n",
    "        '''\n",
    "        perc: threshold of spurious contacts\n",
    "        '''\n",
    "        self.path = path\n",
    "        self.seq_map_raw = copy.deepcopy(seq_map)\n",
    "        self.seq_map = seq_map\n",
    "        self.norm_result = norm_result\n",
    "        self.thres = thres\n",
    "        self.norm_seq = []\n",
    "        self.seq = []\n",
    "\n",
    "\n",
    "        self.name = contig_info[\"name\"]\n",
    "        self.site = contig_info[\"site\"]\n",
    "        self.len = contig_info[\"length\"]\n",
    "        self.covcc = contig_info[\"covcc\"]\n",
    "\n",
    "        del contig_info\n",
    "        \n",
    "        ####transfer the list to numpy array to do slicing#####\n",
    "        self.name = np.array(self.name)\n",
    "        self.site = np.array(self.site)\n",
    "        self.len = np.array(self.len)\n",
    "        self.covcc = np.array(self.covcc)\n",
    "        \n",
    "        #####Normalize raw contacts######\n",
    "        self.norm()\n",
    "\n",
    "        \n",
    "\n",
    "    def norm(self):\n",
    "        self.seq_map = self.seq_map.tocoo()\n",
    "        self.seq_map_raw = self.seq_map_raw.tocoo()\n",
    "        \n",
    "        _map_row = self.seq_map.row\n",
    "        _map_col = self.seq_map.col\n",
    "        self.seq = self.seq_map.data\n",
    "        \n",
    "        \n",
    "        _index = _map_row<_map_col\n",
    "        _map_row = _map_row[_index]\n",
    "        _map_col = _map_col[_index]\n",
    "        self.seq = self.seq[_index]\n",
    "        \n",
    "        _map_coor = list(zip(_map_row , _map_col , self.seq))\n",
    "        coeff = self.norm_result\n",
    "        \n",
    "        self.seq_map = self.seq_map.tolil()\n",
    "        self.seq_map = self.seq_map.astype(np.float64)\n",
    "\n",
    "        self.seq_map_raw = self.seq_map_raw.tolil()\n",
    "        self.seq_map_raw = self.seq_map_raw.astype(np.float64)\n",
    "        \n",
    "        mu_vector = []\n",
    "        for contig_feature in zip(self.site, self.len, self.covcc):\n",
    "            mu_vector.append(exp(coeff[0] + coeff[1]*log(contig_feature[0])+ coeff[2]*log(contig_feature[1])+ coeff[3]*log(contig_feature[2])))\n",
    "        scal = np.max(mu_vector)\n",
    "\n",
    "        \n",
    "        for i in _map_coor:\n",
    "            x = i[0]\n",
    "            y = i[1]\n",
    "            d = i[2]\n",
    "            \n",
    "            d_norm = scal*d/sqrt(mu_vector[x]*mu_vector[y])\n",
    "            self.norm_seq.append(d_norm)\n",
    "            \n",
    "            self.seq_map[x , y] = d_norm\n",
    "            self.seq_map[y , x] = d_norm\n",
    "            \n",
    "        logger.info('Eliminating systematic biases finished')\n",
    "\n",
    "        del _map_row, _map_col, _map_coor\n",
    "\n",
    "   "
   ]
  },
  {
   "cell_type": "code",
   "execution_count": 43,
   "id": "0f942dc9",
   "metadata": {},
   "outputs": [],
   "source": [
    "def calculate_true_contact(row, col, seq,contig_info):\n",
    "    # calculate the true connection for local similarity\n",
    "    contact_local = [1] * len(seq)\n",
    "\n",
    "    for i in tqdm(range(len(contact_local))):\n",
    "        row = salton_row[i]\n",
    "        col = salton_col[i]\n",
    "        if contig_info_combine[\"True_identity\"][row] != contig_info_combine[\"True_identity\"][col]:\n",
    "            contact_local[i] = 0\n",
    "    return contact_local"
   ]
  },
  {
   "cell_type": "code",
   "execution_count": 4,
   "id": "46c6dcce",
   "metadata": {},
   "outputs": [],
   "source": [
    "def drop_lowest(matrix, thres):\n",
    "    matrix = coo_matrix(matrix)\n",
    "    row = matrix.row\n",
    "    col = matrix.col\n",
    "    seq = matrix.data\n",
    "    \n",
    "    index = row < col\n",
    "    \n",
    "    row = row[index]\n",
    "    col = col[index]\n",
    "    seq = seq[index]\n",
    "    \n",
    "    \n",
    "    cutoffs = np.percentile(seq, thres*100)\n",
    "    count = 0\n",
    "    for j in range(len(seq)):\n",
    "        x = row[j]\n",
    "        y = col[j]\n",
    "        if seq[j] < cutoffs:\n",
    "            seq[j] = 0\n",
    "            count += 1\n",
    "    return seq, row, col\n",
    "\n"
   ]
  },
  {
   "cell_type": "code",
   "execution_count": 5,
   "id": "5e1299e5",
   "metadata": {},
   "outputs": [],
   "source": [
    "def salton(matrix):\n",
    "    dense_matrix = matrix.toarray()\n",
    "    salton_matrix = cosine_similarity(dense_matrix)\n",
    "    return coo_matrix(salton_matrix)\n",
    "    "
   ]
  },
  {
   "cell_type": "code",
   "execution_count": 6,
   "id": "f40aca78",
   "metadata": {},
   "outputs": [],
   "source": [
    "def sorenson(matrix):\n",
    "    dense_matrix = matrix.toarray()\n",
    "    n_rows = dense_matrix.shape[0]\n",
    "    sorenson_matrix = np.zeros((n_rows,n_rows))\n",
    "    for i in tqdm(range(n_rows)):\n",
    "        for j in range(i):\n",
    "            calculation = 2* np.sum(np.minimum(dense_matrix[i], dense_matrix[j]))/(np.sum(dense_matrix[i]) + np.sum(dense_matrix[j]))\n",
    "\n",
    "            sorenson_matrix[i, j] = calculation\n",
    "            sorenson_matrix[j, i] = calculation\n",
    "    return coo_matrix(sorenson_matrix)\n"
   ]
  },
  {
   "cell_type": "code",
   "execution_count": 48,
   "id": "8f562a38",
   "metadata": {},
   "outputs": [],
   "source": [
    "def jacard(matrix):\n",
    "    dense_matrix = matrix.toarray()\n",
    "    n_rows = dense_matrix.shape[0]\n",
    "    jacard_matrix = np.zeros((n_rows,n_rows))\n",
    "    for i in tqdm(range(n_rows)):\n",
    "        for j in range(i):\n",
    "            calculation = np.sum(np.minimum(dense_matrix[i], dense_matrix[j]))/np.sum(np.maximum(dense_matrix[i], dense_matrix[j]))\n",
    "            jacard_matrix[i, j] = calculation\n",
    "            jacard_matrix[j, i] = calculation\n",
    "    return coo_matrix(jacard_matrix)"
   ]
  },
  {
   "cell_type": "code",
   "execution_count": 54,
   "id": "946eab42",
   "metadata": {},
   "outputs": [],
   "source": [
    "def lhn(matrix):\n",
    "    dense_matrix = matrix.toarray()\n",
    "    n_rows = dense_matrix.shape[0]\n",
    "    lhn_matrix = np.zeros((n_rows,n_rows))\n",
    "    \n",
    "    for i in tqdm(range(n_rows)):\n",
    "        for j in range(i):\n",
    "            k_u = np.sum(dense_matrix[i])\n",
    "            k_v = np.sum(dense_matrix[j])\n",
    "            calculation = np.sum(dense_matrix[i]*dense_matrix[j])\n",
    "            lhn_matrix[i, j] = calculation\n",
    "            lhn_matrix[j, i] = calculation\n",
    "    return coo_matrix(lhn_matrix)"
   ]
  },
  {
   "cell_type": "markdown",
   "id": "8d190d7f",
   "metadata": {},
   "source": [
    "## Data Loading and Preparation"
   ]
  },
  {
   "cell_type": "code",
   "execution_count": 12,
   "id": "0a1b258d",
   "metadata": {},
   "outputs": [],
   "source": [
    "raw_contact_matrix = np.load(raw_contact_file)\n",
    "contig_info_combine = pd.read_csv(contig_file)"
   ]
  },
  {
   "cell_type": "code",
   "execution_count": 13,
   "id": "06e11e1a",
   "metadata": {},
   "outputs": [],
   "source": [
    "names = ['name', 'site', 'length', 'coverage', 'covcc', \"True_identity\"]\n",
    "contig_info_combine.columns = names"
   ]
  },
  {
   "cell_type": "code",
   "execution_count": 14,
   "id": "d8c893dc",
   "metadata": {},
   "outputs": [
    {
     "data": {
      "text/html": [
       "<div>\n",
       "<style scoped>\n",
       "    .dataframe tbody tr th:only-of-type {\n",
       "        vertical-align: middle;\n",
       "    }\n",
       "\n",
       "    .dataframe tbody tr th {\n",
       "        vertical-align: top;\n",
       "    }\n",
       "\n",
       "    .dataframe thead th {\n",
       "        text-align: right;\n",
       "    }\n",
       "</style>\n",
       "<table border=\"1\" class=\"dataframe\">\n",
       "  <thead>\n",
       "    <tr style=\"text-align: right;\">\n",
       "      <th></th>\n",
       "      <th>name</th>\n",
       "      <th>site</th>\n",
       "      <th>length</th>\n",
       "      <th>coverage</th>\n",
       "      <th>covcc</th>\n",
       "      <th>True_identity</th>\n",
       "    </tr>\n",
       "  </thead>\n",
       "  <tbody>\n",
       "    <tr>\n",
       "      <th>0</th>\n",
       "      <td>k141_13348</td>\n",
       "      <td>14</td>\n",
       "      <td>1445</td>\n",
       "      <td>11.5019</td>\n",
       "      <td>44</td>\n",
       "      <td>kudriavzevii</td>\n",
       "    </tr>\n",
       "    <tr>\n",
       "      <th>1</th>\n",
       "      <td>k141_1</td>\n",
       "      <td>6</td>\n",
       "      <td>1102</td>\n",
       "      <td>15.3950</td>\n",
       "      <td>9</td>\n",
       "      <td>kudriavzevii</td>\n",
       "    </tr>\n",
       "    <tr>\n",
       "      <th>2</th>\n",
       "      <td>k141_10680</td>\n",
       "      <td>9</td>\n",
       "      <td>1191</td>\n",
       "      <td>618.3390</td>\n",
       "      <td>194</td>\n",
       "      <td>cerevisiae</td>\n",
       "    </tr>\n",
       "    <tr>\n",
       "      <th>3</th>\n",
       "      <td>k141_9790</td>\n",
       "      <td>92</td>\n",
       "      <td>4211</td>\n",
       "      <td>500.7790</td>\n",
       "      <td>10020</td>\n",
       "      <td>uvarum</td>\n",
       "    </tr>\n",
       "    <tr>\n",
       "      <th>4</th>\n",
       "      <td>k141_2</td>\n",
       "      <td>15</td>\n",
       "      <td>2821</td>\n",
       "      <td>17.4684</td>\n",
       "      <td>173</td>\n",
       "      <td>kudriavzevii</td>\n",
       "    </tr>\n",
       "    <tr>\n",
       "      <th>...</th>\n",
       "      <td>...</td>\n",
       "      <td>...</td>\n",
       "      <td>...</td>\n",
       "      <td>...</td>\n",
       "      <td>...</td>\n",
       "      <td>...</td>\n",
       "    </tr>\n",
       "    <tr>\n",
       "      <th>5278</th>\n",
       "      <td>k141_13334</td>\n",
       "      <td>64</td>\n",
       "      <td>5930</td>\n",
       "      <td>57.2666</td>\n",
       "      <td>140</td>\n",
       "      <td>gossypii</td>\n",
       "    </tr>\n",
       "    <tr>\n",
       "      <th>5279</th>\n",
       "      <td>k141_13335</td>\n",
       "      <td>83</td>\n",
       "      <td>6085</td>\n",
       "      <td>103.4340</td>\n",
       "      <td>1458</td>\n",
       "      <td>castellii</td>\n",
       "    </tr>\n",
       "    <tr>\n",
       "      <th>5280</th>\n",
       "      <td>k141_13340</td>\n",
       "      <td>14</td>\n",
       "      <td>1165</td>\n",
       "      <td>15.9094</td>\n",
       "      <td>11</td>\n",
       "      <td>kudriavzevii</td>\n",
       "    </tr>\n",
       "    <tr>\n",
       "      <th>5281</th>\n",
       "      <td>k141_13342</td>\n",
       "      <td>204</td>\n",
       "      <td>15692</td>\n",
       "      <td>92.8114</td>\n",
       "      <td>3787</td>\n",
       "      <td>kluyveri</td>\n",
       "    </tr>\n",
       "    <tr>\n",
       "      <th>5282</th>\n",
       "      <td>k141_13343</td>\n",
       "      <td>129</td>\n",
       "      <td>9279</td>\n",
       "      <td>55.2093</td>\n",
       "      <td>1787</td>\n",
       "      <td>paradoxus</td>\n",
       "    </tr>\n",
       "  </tbody>\n",
       "</table>\n",
       "<p>5283 rows × 6 columns</p>\n",
       "</div>"
      ],
      "text/plain": [
       "            name  site  length  coverage  covcc True_identity\n",
       "0     k141_13348    14    1445   11.5019     44  kudriavzevii\n",
       "1         k141_1     6    1102   15.3950      9  kudriavzevii\n",
       "2     k141_10680     9    1191  618.3390    194    cerevisiae\n",
       "3      k141_9790    92    4211  500.7790  10020        uvarum\n",
       "4         k141_2    15    2821   17.4684    173  kudriavzevii\n",
       "...          ...   ...     ...       ...    ...           ...\n",
       "5278  k141_13334    64    5930   57.2666    140      gossypii\n",
       "5279  k141_13335    83    6085  103.4340   1458     castellii\n",
       "5280  k141_13340    14    1165   15.9094     11  kudriavzevii\n",
       "5281  k141_13342   204   15692   92.8114   3787      kluyveri\n",
       "5282  k141_13343   129    9279   55.2093   1787     paradoxus\n",
       "\n",
       "[5283 rows x 6 columns]"
      ]
     },
     "execution_count": 14,
     "metadata": {},
     "output_type": "execute_result"
    }
   ],
   "source": [
    "contig_info_combine"
   ]
  },
  {
   "cell_type": "code",
   "execution_count": 15,
   "id": "3cc5a9f4",
   "metadata": {},
   "outputs": [
    {
     "data": {
      "text/plain": [
       "(5283, 6)"
      ]
     },
     "execution_count": 15,
     "metadata": {},
     "output_type": "execute_result"
    }
   ],
   "source": [
    "contig_info_combine.shape"
   ]
  },
  {
   "cell_type": "code",
   "execution_count": 16,
   "id": "ead0288b",
   "metadata": {},
   "outputs": [
    {
     "data": {
      "text/plain": [
       "['indices', 'indptr', 'format', 'shape', 'data']"
      ]
     },
     "execution_count": 16,
     "metadata": {},
     "output_type": "execute_result"
    }
   ],
   "source": [
    "raw_contact_matrix.files"
   ]
  },
  {
   "cell_type": "code",
   "execution_count": 17,
   "id": "180a6a01",
   "metadata": {},
   "outputs": [],
   "source": [
    "indices = raw_contact_matrix[\"indices\"]\n",
    "indptr = raw_contact_matrix[\"indptr\"]\n",
    "shape = raw_contact_matrix[\"shape\"]\n",
    "data = raw_contact_matrix[\"data\"]\n",
    "\n",
    "# Reconstruct the sparse matrix (assuming CSR format)\n",
    "contact_matrix = csr_matrix((data, indices, indptr), shape=shape)"
   ]
  },
  {
   "cell_type": "code",
   "execution_count": 18,
   "id": "283b97cc",
   "metadata": {},
   "outputs": [],
   "source": [
    "def sum_rows_excluding_diagonal(sparse_mat):\n",
    "    # Get the shape of the matrix\n",
    "    n_rows, n_cols = sparse_mat.shape\n",
    "\n",
    "    # Initialize an array to store the row sums\n",
    "    row_sums_excluding_diagonal = np.zeros(n_rows)\n",
    "\n",
    "    # Iterate over each row\n",
    "    for i in range(n_rows):\n",
    "        # Get the start and end indices of the data in the current row\n",
    "        start_index = sparse_mat.indptr[i]\n",
    "        end_index = sparse_mat.indptr[i + 1]\n",
    "\n",
    "        # Get the column indices and data for the current row\n",
    "        row_indices = sparse_mat.indices[start_index:end_index]\n",
    "        row_data = sparse_mat.data[start_index:end_index]\n",
    "\n",
    "        # Sum the elements excluding the diagonal element\n",
    "        row_sum = sum(row_data[j] for j in range(len(row_data)) if row_indices[j] != i)\n",
    "\n",
    "        # Store the sum in the result array\n",
    "        row_sums_excluding_diagonal[i] = row_sum\n",
    "\n",
    "    return row_sums_excluding_diagonal\n",
    "\n",
    "\n",
    "# Calculate the row sums excluding the diagonal\n",
    "signal = sum_rows_excluding_diagonal(contact_matrix)\n"
   ]
  },
  {
   "cell_type": "code",
   "execution_count": 19,
   "id": "09250124",
   "metadata": {},
   "outputs": [
    {
     "data": {
      "text/html": [
       "<div>\n",
       "<style scoped>\n",
       "    .dataframe tbody tr th:only-of-type {\n",
       "        vertical-align: middle;\n",
       "    }\n",
       "\n",
       "    .dataframe tbody tr th {\n",
       "        vertical-align: top;\n",
       "    }\n",
       "\n",
       "    .dataframe thead th {\n",
       "        text-align: right;\n",
       "    }\n",
       "</style>\n",
       "<table border=\"1\" class=\"dataframe\">\n",
       "  <thead>\n",
       "    <tr style=\"text-align: right;\">\n",
       "      <th></th>\n",
       "      <th>name</th>\n",
       "      <th>site</th>\n",
       "      <th>length</th>\n",
       "      <th>coverage</th>\n",
       "      <th>covcc</th>\n",
       "      <th>True_identity</th>\n",
       "      <th>signal</th>\n",
       "    </tr>\n",
       "  </thead>\n",
       "  <tbody>\n",
       "    <tr>\n",
       "      <th>0</th>\n",
       "      <td>k141_13348</td>\n",
       "      <td>14</td>\n",
       "      <td>1445</td>\n",
       "      <td>11.5019</td>\n",
       "      <td>44</td>\n",
       "      <td>kudriavzevii</td>\n",
       "      <td>9.0</td>\n",
       "    </tr>\n",
       "    <tr>\n",
       "      <th>1</th>\n",
       "      <td>k141_1</td>\n",
       "      <td>6</td>\n",
       "      <td>1102</td>\n",
       "      <td>15.3950</td>\n",
       "      <td>9</td>\n",
       "      <td>kudriavzevii</td>\n",
       "      <td>4.0</td>\n",
       "    </tr>\n",
       "    <tr>\n",
       "      <th>2</th>\n",
       "      <td>k141_10680</td>\n",
       "      <td>9</td>\n",
       "      <td>1191</td>\n",
       "      <td>618.3390</td>\n",
       "      <td>194</td>\n",
       "      <td>cerevisiae</td>\n",
       "      <td>150.0</td>\n",
       "    </tr>\n",
       "    <tr>\n",
       "      <th>3</th>\n",
       "      <td>k141_9790</td>\n",
       "      <td>92</td>\n",
       "      <td>4211</td>\n",
       "      <td>500.7790</td>\n",
       "      <td>10020</td>\n",
       "      <td>uvarum</td>\n",
       "      <td>5485.0</td>\n",
       "    </tr>\n",
       "    <tr>\n",
       "      <th>4</th>\n",
       "      <td>k141_2</td>\n",
       "      <td>15</td>\n",
       "      <td>2821</td>\n",
       "      <td>17.4684</td>\n",
       "      <td>173</td>\n",
       "      <td>kudriavzevii</td>\n",
       "      <td>23.0</td>\n",
       "    </tr>\n",
       "    <tr>\n",
       "      <th>...</th>\n",
       "      <td>...</td>\n",
       "      <td>...</td>\n",
       "      <td>...</td>\n",
       "      <td>...</td>\n",
       "      <td>...</td>\n",
       "      <td>...</td>\n",
       "      <td>...</td>\n",
       "    </tr>\n",
       "    <tr>\n",
       "      <th>5278</th>\n",
       "      <td>k141_13334</td>\n",
       "      <td>64</td>\n",
       "      <td>5930</td>\n",
       "      <td>57.2666</td>\n",
       "      <td>140</td>\n",
       "      <td>gossypii</td>\n",
       "      <td>24.0</td>\n",
       "    </tr>\n",
       "    <tr>\n",
       "      <th>5279</th>\n",
       "      <td>k141_13335</td>\n",
       "      <td>83</td>\n",
       "      <td>6085</td>\n",
       "      <td>103.4340</td>\n",
       "      <td>1458</td>\n",
       "      <td>castellii</td>\n",
       "      <td>449.0</td>\n",
       "    </tr>\n",
       "    <tr>\n",
       "      <th>5280</th>\n",
       "      <td>k141_13340</td>\n",
       "      <td>14</td>\n",
       "      <td>1165</td>\n",
       "      <td>15.9094</td>\n",
       "      <td>11</td>\n",
       "      <td>kudriavzevii</td>\n",
       "      <td>4.0</td>\n",
       "    </tr>\n",
       "    <tr>\n",
       "      <th>5281</th>\n",
       "      <td>k141_13342</td>\n",
       "      <td>204</td>\n",
       "      <td>15692</td>\n",
       "      <td>92.8114</td>\n",
       "      <td>3787</td>\n",
       "      <td>kluyveri</td>\n",
       "      <td>1127.0</td>\n",
       "    </tr>\n",
       "    <tr>\n",
       "      <th>5282</th>\n",
       "      <td>k141_13343</td>\n",
       "      <td>129</td>\n",
       "      <td>9279</td>\n",
       "      <td>55.2093</td>\n",
       "      <td>1787</td>\n",
       "      <td>paradoxus</td>\n",
       "      <td>352.0</td>\n",
       "    </tr>\n",
       "  </tbody>\n",
       "</table>\n",
       "<p>5283 rows × 7 columns</p>\n",
       "</div>"
      ],
      "text/plain": [
       "            name  site  length  coverage  covcc True_identity  signal\n",
       "0     k141_13348    14    1445   11.5019     44  kudriavzevii     9.0\n",
       "1         k141_1     6    1102   15.3950      9  kudriavzevii     4.0\n",
       "2     k141_10680     9    1191  618.3390    194    cerevisiae   150.0\n",
       "3      k141_9790    92    4211  500.7790  10020        uvarum  5485.0\n",
       "4         k141_2    15    2821   17.4684    173  kudriavzevii    23.0\n",
       "...          ...   ...     ...       ...    ...           ...     ...\n",
       "5278  k141_13334    64    5930   57.2666    140      gossypii    24.0\n",
       "5279  k141_13335    83    6085  103.4340   1458     castellii   449.0\n",
       "5280  k141_13340    14    1165   15.9094     11  kudriavzevii     4.0\n",
       "5281  k141_13342   204   15692   92.8114   3787      kluyveri  1127.0\n",
       "5282  k141_13343   129    9279   55.2093   1787     paradoxus   352.0\n",
       "\n",
       "[5283 rows x 7 columns]"
      ]
     },
     "execution_count": 19,
     "metadata": {},
     "output_type": "execute_result"
    }
   ],
   "source": [
    "contig_info_combine[\"signal\"] = signal\n",
    "contig_info_combine"
   ]
  },
  {
   "cell_type": "code",
   "execution_count": 20,
   "id": "79a6fef0",
   "metadata": {},
   "outputs": [],
   "source": [
    "# calculate the coffecient\n",
    "coffecient = normcc(contig_info_combine)"
   ]
  },
  {
   "cell_type": "code",
   "execution_count": null,
   "id": "e7c1e7b2",
   "metadata": {},
   "outputs": [],
   "source": []
  },
  {
   "cell_type": "markdown",
   "id": "0303e5a9",
   "metadata": {},
   "source": [
    "## Perform NormCC in the contact_matrix"
   ]
  },
  {
   "cell_type": "code",
   "execution_count": 24,
   "id": "952da39d",
   "metadata": {},
   "outputs": [],
   "source": [
    "# Perform NormCC\n",
    "norm = NormCCMap(path = path , contig_info=contig_info_combine , seq_map=contact_matrix , norm_result=coffecient , thres=0.6)\n"
   ]
  },
  {
   "cell_type": "markdown",
   "id": "ec6a3851",
   "metadata": {},
   "source": [
    "## Calculate the local similarity index"
   ]
  },
  {
   "cell_type": "code",
   "execution_count": 30,
   "id": "1d841a97",
   "metadata": {},
   "outputs": [
    {
     "name": "stderr",
     "output_type": "stream",
     "text": [
      "100%|██████████| 5283/5283 [05:10<00:00, 17.01it/s]\n",
      "100%|██████████| 5283/5283 [04:03<00:00, 21.67it/s] \n"
     ]
    }
   ],
   "source": [
    "## for sorenson local index\n",
    "sorenson_matrix_raw = sorenson(contact_matrix)\n",
    "salton_matrix_raw = salton(contact_matrix)\n",
    "\n",
    "## for salton local index\n",
    "sorenson_matrix_norm = sorenson(norm.seq_map)\n",
    "salton_matrix_norm = salton(norm.seq_map)"
   ]
  },
  {
   "cell_type": "code",
   "execution_count": 50,
   "id": "feccefdc",
   "metadata": {},
   "outputs": [
    {
     "name": "stderr",
     "output_type": "stream",
     "text": [
      "100%|██████████| 5283/5283 [03:48<00:00, 23.17it/s] \n",
      "100%|██████████| 5283/5283 [03:47<00:00, 23.26it/s] \n"
     ]
    }
   ],
   "source": [
    "## for jacard local index\n",
    "jacard_matrix_raw = jacard(contact_matrix)\n",
    "\n",
    "jacard_matrix_norm = jacard(norm.seq_map)"
   ]
  },
  {
   "cell_type": "code",
   "execution_count": 55,
   "id": "94ef52e7",
   "metadata": {},
   "outputs": [
    {
     "name": "stderr",
     "output_type": "stream",
     "text": [
      "100%|██████████| 5283/5283 [04:42<00:00, 18.69it/s]\n",
      "100%|██████████| 5283/5283 [03:56<00:00, 22.35it/s] \n"
     ]
    }
   ],
   "source": [
    "#@ for lhn local index\n",
    "lhn_matrix_raw = lhn(contact_matrix)\n",
    "\n",
    "lhn_matrix_norm = lhn(norm.seq_map)"
   ]
  },
  {
   "cell_type": "markdown",
   "id": "0b1d354f",
   "metadata": {},
   "source": [
    "## Drop the lowest n%"
   ]
  },
  {
   "cell_type": "code",
   "execution_count": 31,
   "id": "5f7fd5ec",
   "metadata": {},
   "outputs": [],
   "source": [
    "##drop out the lowest 10 percent\n",
    "salton_seq_raw, salton_row_raw, salton_col_raw = drop_lowest(salton_matrix_raw, 0.1)\n",
    "salton_seq_norm, salton_row_norm, salton_col_norm = drop_lowest(salton_matrix_norm, 0.1)\n",
    "\n",
    "sorenson_seq_raw, sorenson_row_raw, sorenson_col_raw = drop_lowest(sorenson_matrix_raw, 0.1)\n",
    "sorenson_seq_norm, sorenson_row_norm, sorenson_col_norm = drop_lowest(sorenson_matrix_norm, 0.1)"
   ]
  },
  {
   "cell_type": "code",
   "execution_count": 56,
   "id": "04e1f989",
   "metadata": {},
   "outputs": [],
   "source": [
    "jacard_seq_raw, jacard_row_raw, jacard_col_raw = drop_lowest(jacard_matrix_raw, 0.1)\n",
    "jacard_seq_norm, jacard_row_norm, jacard_col_norm = drop_lowest(jacard_matrix_raw, 0.1)\n",
    "\n",
    "lhn_seq_raw, lhn_row_raw, lhn_col_raw = drop_lowest(lhn_matrix_raw, 0.1)\n",
    "lhn_seq_norm, lhn_row_norm, lhn_col_norm = drop_lowest(lhn_matrix_raw, 0.1)"
   ]
  },
  {
   "cell_type": "markdown",
   "id": "b9e6156a",
   "metadata": {},
   "source": [
    "## Determine whether it's inter-contacts or intra-contacts"
   ]
  },
  {
   "cell_type": "code",
   "execution_count": 45,
   "id": "e1c63cbc",
   "metadata": {},
   "outputs": [
    {
     "name": "stderr",
     "output_type": "stream",
     "text": [
      "100%|██████████| 9015139/9015139 [00:59<00:00, 152225.95it/s]\n"
     ]
    }
   ],
   "source": [
    "## calculate the valid contacts in the map\n",
    "contact_local = calculate_true_contact(salton_row_raw, salton_col_raw, salton_seq_raw, contig_info_combine)"
   ]
  },
  {
   "cell_type": "markdown",
   "id": "83796e0b",
   "metadata": {},
   "source": [
    "## Draw the AUC"
   ]
  },
  {
   "cell_type": "code",
   "execution_count": 68,
   "id": "a9f2343f",
   "metadata": {},
   "outputs": [
    {
     "name": "stderr",
     "output_type": "stream",
     "text": [
      "100%|██████████| 9015139/9015139 [00:59<00:00, 151774.78it/s]\n"
     ]
    }
   ],
   "source": [
    "contact_lhn = calculate_true_contact(lhn_row_raw, lhn_col_raw, lhn_seq_raw, contig_info_combine)"
   ]
  },
  {
   "cell_type": "code",
   "execution_count": 33,
   "id": "9b64aa80",
   "metadata": {},
   "outputs": [],
   "source": []
  },
  {
   "cell_type": "code",
   "execution_count": 62,
   "id": "67f6763c",
   "metadata": {},
   "outputs": [],
   "source": [
    "\n",
    "fpr_salton_raw, tpr_salton_raw, _ = roc_curve(contact_local, salton_seq_raw)\n",
    "fpr_salton_norm, tpr_salton_norm, _ = roc_curve(contact_local, salton_seq_norm)\n",
    "\n",
    "fpr_sorenson_raw, tpr_sorenson_raw, _ = roc_curve(contact_local, sorenson_seq_raw)\n",
    "fpr_sorenson_norm, tpr_sorenson_norm, _ = roc_curve(contact_local, sorenson_seq_norm)"
   ]
  },
  {
   "cell_type": "code",
   "execution_count": 65,
   "id": "15edef2d",
   "metadata": {},
   "outputs": [],
   "source": [
    "fpr_jacard_raw, tpr_jacard_raw, _ = roc_curve(contact_local, jacard_seq_raw)\n",
    "fpr_jacard_norm, tpr_jacard_norm, _ = roc_curve(contact_local, jacard_seq_norm)\n"
   ]
  },
  {
   "cell_type": "code",
   "execution_count": 69,
   "id": "3248a746",
   "metadata": {},
   "outputs": [],
   "source": [
    "fpr_lhn_raw, tpr_lhn_raw, _ = roc_curve(contact_lhn, lhn_seq_raw)\n",
    "fpr_lhn_norm, tpr_lhn_norm, _ =roc_curve(contact_lhn, lhn_seq_norm)"
   ]
  },
  {
   "cell_type": "code",
   "execution_count": 63,
   "id": "2ac6f389",
   "metadata": {},
   "outputs": [],
   "source": [
    "auc_salton_raw = auc(fpr_salton_raw, tpr_salton_raw)\n",
    "auc_salton_norm = auc(fpr_salton_norm, tpr_salton_norm)\n"
   ]
  },
  {
   "cell_type": "code",
   "execution_count": null,
   "id": "11777386",
   "metadata": {},
   "outputs": [],
   "source": [
    "auc_sorenson_raw = auc(fpr_sorenson_raw, tpr_sorenson_raw)\n",
    "auc_sorenson_norm = auc(fpr_sorenson_norm, tpr_sorenson_norm)"
   ]
  },
  {
   "cell_type": "code",
   "execution_count": 66,
   "id": "4df64536",
   "metadata": {},
   "outputs": [],
   "source": [
    "auc_jacard_raw = auc(fpr_jacard_raw, tpr_jacard_raw)\n",
    "auc_jacard_norm = auc(fpr_jacard_norm, tpr_jacard_norm)\n",
    "\n"
   ]
  },
  {
   "cell_type": "code",
   "execution_count": 70,
   "id": "fbe1f9a2",
   "metadata": {},
   "outputs": [],
   "source": [
    "auc_lhn_raw = auc(fpr_lhn_raw, tpr_lhn_raw)\n",
    "auc_lhn_norm = auc(fpr_lhn_norm, tpr_lhn_norm)"
   ]
  },
  {
   "cell_type": "code",
   "execution_count": 71,
   "id": "9d9e45f1",
   "metadata": {},
   "outputs": [
    {
     "data": {
      "image/png": "[encoded data removed]",
      "text/plain": [
       "<Figure size 432x288 with 1 Axes>"
      ]
     },
     "metadata": {
      "needs_background": "light"
     },
     "output_type": "display_data"
    }
   ],
   "source": [
    "import matplotlib.pyplot as plt\n",
    "\n",
    "plt.figure()\n",
    "lw = 2  # line width\n",
    "plt.plot(fpr_salton_norm, tpr_salton_norm, color='blue',\n",
    "         lw=lw, label=f'normalized salton (AUC = {auc_salton_norm:.2f})')\n",
    "plt.plot(fpr_sorenson_norm, tpr_sorenson_norm, color=\"red\", \n",
    "        lw=lw, label=f'normalized sorenson (AUC = {auc_sorenson_norm:.2f})')\n",
    "plt.plot(fpr_salton_raw, tpr_salton_raw, color='black',\n",
    "         lw=lw, label=f'salton raw(AUC = {auc_salton_raw:.2f})')\n",
    "plt.plot(fpr_sorenson_raw, tpr_sorenson_raw, color=\"green\", \n",
    "        lw=lw, label=f'sorenson raw (AUC = {auc_sorenson_raw:.2f})')\n",
    "\n",
    "plt.plot([0, 1], [0, 1], color='navy', lw=2, linestyle='--')\n",
    "plt.xlim([0.0, 1.0])\n",
    "plt.ylim([0.0, 1.05])\n",
    "plt.xlabel('Proportation of retained intra-species contacts')\n",
    "plt.ylabel('Proportation of discard spurious contacts')\n",
    "plt.title('Discard retained curve')\n",
    "plt.legend(loc=\"lower right\")\n",
    "plt.grid(True)\n",
    "plt.show()"
   ]
  },
  {
   "cell_type": "markdown",
   "id": "33bf0cdf",
   "metadata": {},
   "source": [
    "#### question: if there are multiple contacts for the same pairs of contigs, I should count it as 1 when calculate the multiple contacts or counted as the number as it is?\n"
   ]
  },
  {
   "cell_type": "code",
   "execution_count": 72,
   "id": "8aa672e3",
   "metadata": {},
   "outputs": [
    {
     "data": {
      "image/png": "[encoded data removed]",
      "text/plain": [
       "<Figure size 432x288 with 1 Axes>"
      ]
     },
     "metadata": {
      "needs_background": "light"
     },
     "output_type": "display_data"
    }
   ],
   "source": [
    "plt.figure()\n",
    "lw = 2  # line width\n",
    "plt.plot(fpr_jacard_raw, tpr_jacard_raw, color='blue',\n",
    "         lw=lw, label=f'raw jacard (AUC = {auc_jacard_raw:.2f})')\n",
    "plt.plot(fpr_jacard_norm, tpr_jacard_norm, color=\"red\", \n",
    "        lw=lw, label=f'normalized jacard (AUC = {auc_jacard_norm:.2f})')\n",
    "plt.plot(fpr_salton_raw, tpr_salton_raw, color='black',\n",
    "         lw=lw, label=f'lhn raw(AUC = {auc_lhn_raw:.2f})')\n",
    "plt.plot(fpr_lhn_norm, tpr_lhn_norm, color=\"green\", \n",
    "        lw=lw, label=f'lhn norm (AUC = {auc_lhn_norm:.2f})')\n",
    "\n",
    "plt.plot([0, 1], [0, 1], color='navy', lw=2, linestyle='--')\n",
    "plt.xlim([0.0, 1.0])\n",
    "plt.ylim([0.0, 1.05])\n",
    "plt.xlabel('Proportation of retained intra-species contacts')\n",
    "plt.ylabel('Proportation of discard spurious contacts')\n",
    "plt.title('Discard retained curve')\n",
    "plt.legend(loc=\"lower right\")\n",
    "plt.grid(True)\n",
    "plt.show()"
   ]
  },
  {
   "cell_type": "code",
   "execution_count": null,
   "id": "ab4bbccd",
   "metadata": {},
   "outputs": [],
   "source": []
  }
 ],
 "metadata": {
  "kernelspec": {
   "display_name": "Python 3",
   "language": "python",
   "name": "python3"
  },
  "language_info": {
   "codemirror_mode": {
    "name": "ipython",
    "version": 3
   },
   "file_extension": ".py",
   "mimetype": "text/x-python",
   "name": "python",
   "nbconvert_exporter": "python",
   "pygments_lexer": "ipython3",
   "version": "3.8.5"
  }
 },
 "nbformat": 4,
 "nbformat_minor": 5
}
